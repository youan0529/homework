{
 "cells": [
  {
   "cell_type": "markdown",
   "metadata": {},
   "source": [
    "## algorithm design and anlysis-2025 spring  homework 1 \n",
    "**Deadline**：2025.5.14\n",
    "\n",
    "**name**:\n",
    "\n",
    "\n",
    "note：\n",
    "---\n",
    "1. 带有\\*的题目，申请免上课的同学，必须完成，其他同学选作；\n",
    "2. 请独立完成，如求助了他人或者大模型，请著明，并且不可省略算法分析部分；\n",
    "4. 如若作答有雷同，全部取消成绩；\n",
    "3. 需要书面作答的题目，可以通过引用图片的形式添加，但是注意上传项目时包含所引用的图片的源文件；\n",
    "4. $log_n$ 默认表示$log_2{n}$;"
   ]
  },
  {
   "cell_type": "markdown",
   "metadata": {},
   "source": [
    "## 问题 1\n",
    "\n",
    "对于下面的每一对表达式(A, B), A是否能表示为B的 $\\Theta, \\Omega ,O$形式. 请注意, 这些关系中的零个、一个或多个可能成立。列出所有正确的。经常发生一些学生会,把指示写错, 所以请把关系写完整, 例如: $A = O(B),  A =\\Theta(B)$, 或$A = \\Omega(B)$。\n",
    "\n",
    "1. $A=n^2-100n, B=n^2$\n",
    "2. $A=logn, B=log_{1.2}n$\n",
    "3. $A=3^{2n}, B=2^{4n}$\n",
    "4. $A=2^{logn}, B=n$\n",
    "5. $A=\\log{\\log}{n},B=10^{10^{100}}$"
   ]
  },
  {
   "cell_type": "markdown",
   "metadata": {},
   "source": [
    "can refer a handwritten picture, pleas upload the picture in /fig/xxx.png\n",
    "answer:\n",
    "![jupyter](./fig/1_1.jpg)\n"
   ]
  },
  {
   "cell_type": "markdown",
   "metadata": {},
   "source": [
    "## 问题 2：\n",
    "\n",
    "假设有函数 $f$ 和 $g$ 使得 $f(n)$ = $O(g(n))$ 对于下面的每一个陈述, 请判断对错, 如果正确请给出证明, 否则请给出一个反例。\n",
    "\n",
    "1. $\\log{f(n)}$ = $O(\\log(1+g(n)))$\n",
    "2. $3^{f(n)}=O(3^{g(n)})$\n",
    "3. $(f(n))^2=O((g(n))^2)$ "
   ]
  },
  {
   "cell_type": "markdown",
   "metadata": {},
   "source": [
    "you can refer a handwritten picture, pleas upload the picture in /fig/xxx.png\n",
    "answer:\n",
    "![jupyter](./fig/1_2.jpg)"
   ]
  },
  {
   "cell_type": "markdown",
   "metadata": {},
   "source": [
    "## 问题 3\n",
    "\n",
    "根据下列递归公式, 计算下列 $T(n)$ 对应的的渐近上界。要求所求的边界尽可能的紧（tight）, 请写明步骤。\n",
    "\n",
    "1. $T(1)=1; T(n)=T(n/4)+1$ for $n>1$\n",
    "2. $T(1)=1;T(n)=3T(n/3)+n^2$ for $n>1$\n",
    "3. $T(1)=1;T(n)=T(2n/3)+1$ for $n>1$\n",
    "4. $T(1)=1;T(n)=5T(n/4)+n$ for $n>1$\n",
    "5. $T(n)=1 \\ for\\ n \\le 2 ; T(n)=T(\\sqrt{n})+1 \\ for \\ n>2$"
   ]
  },
  {
   "cell_type": "markdown",
   "metadata": {},
   "source": [
    "can refer a handwritten picture, pleas upload the picture in /fig/xxx.png\n",
    "answer:\n",
    "![jupyter](./fig/1_3.jpg)"
   ]
  },
  {
   "cell_type": "markdown",
   "metadata": {},
   "source": [
    "## 问题 4：\n",
    "\n",
    "给定一个包含n个元素的数组 `profits` , 它的第 `i` 个元素 `profits[i]` 表示一支股票第 `i` 天的**收益**（正数表示涨, 负数表示跌）。你只能选择 **某一天** 买入这只股票, 并选择在 **未来的某一个不同的日子** 卖出该股票。\n",
    "\n",
    "1. 设计一个算法来计算你所能获取的最大利润和对应买入和卖出的日期。请分析算法方案, 计算其时间复杂度, 并且使用python编程实现该算法。\n",
    "\n",
    "2. \\* 设计一个时间复杂度为 $O(n)$的算法实现该算法\n",
    "\n",
    "e.g. :\n",
    "---\n",
    "profits=[3,2,1,-7,5,2,-1,3,-1], 第5天买入, 第8天卖出, 收益最大：9\n",
    "\n"
   ]
  },
  {
   "cell_type": "markdown",
   "metadata": {},
   "source": [
    "idea:  \n",
    "第一题算法思路:遍历所有可能性，维护当前找到的最优解，有$n*(n-1)/2$种可能性，故其时间复杂度为$O(n^2)$  \n",
    "\n",
    "第二题算法思路:维护一个前序和数组，区间和等于前序和数组中两个元素的差值，最大利润等于最大区间和  \n",
    "计算前序和数组需要遍历一遍数组，同时维护前序和数组中的最大最小值，最大利润直接用最大值-最小值得出，时间复杂度为$O(n)$"
   ]
  },
  {
   "cell_type": "code",
   "execution_count": 8,
   "metadata": {},
   "outputs": [
    {
     "name": "stdout",
     "output_type": "stream",
     "text": [
      "第5天买入，第8天卖出，收益最大：9\n"
     ]
    }
   ],
   "source": [
    "# add your code\n",
    "profits=[3,2,1,-7,5,2,-1,3,-1]\n",
    "best_start = None\n",
    "best_end = None\n",
    "best_profits = float(\"-inf\")\n",
    "for i in range(1,len(profits)):\n",
    "    for j in range(1,len(profits)):\n",
    "        if i>=j:\n",
    "            continue\n",
    "        else:\n",
    "            profit = sum(profits[i-1:j])\n",
    "            if profit>best_profits:\n",
    "                best_start=i\n",
    "                best_end=j\n",
    "                best_profits=profit\n",
    "print(f'第{best_start}天买入，第{best_end}天卖出，收益最大：{best_profits}')\n",
    "            \n",
    "        \n",
    "        "
   ]
  },
  {
   "cell_type": "code",
   "execution_count": 22,
   "metadata": {},
   "outputs": [
    {
     "name": "stdout",
     "output_type": "stream",
     "text": [
      "第5天买入，第8天卖出，收益最大：9\n"
     ]
    }
   ],
   "source": [
    "# an algorithm with O(n)\n",
    "profits=[3,2,1,-7,5,2,-1,3,-1]\n",
    "S=[0 for i in range(len(profits)+1)]\n",
    "s_now = 0\n",
    "s_max = float(\"-inf\")\n",
    "s_min = float(\"inf\")\n",
    "best_start = None\n",
    "best_end = None\n",
    "best_profits = float(\"-inf\")\n",
    "for i in range(len(profits)+1):\n",
    "    S[i]=s_now\n",
    "    if S[i] > s_max:\n",
    "        s_max = S[i]\n",
    "        best_end = i\n",
    "    if S[i] < s_min:\n",
    "        s_min = S[i]\n",
    "        best_start = i+1\n",
    "    if i <len(profits):\n",
    "        s_now+=profits[i]\n",
    "best_profits = S[best_end]-S[best_start-1]\n",
    "    \n",
    "\n",
    "print(f'第{best_start}天买入，第{best_end}天卖出，收益最大：{best_profits}')"
   ]
  },
  {
   "cell_type": "markdown",
   "metadata": {},
   "source": [
    "## 问题 5：\n",
    "\n",
    "观察下方的分治算法（divide-and-conquer algorithm）的伪代码, 回答下面问题\n",
    "\n",
    "```latex\n",
    "DoSomething(A,p,r)\n",
    "-----\n",
    "n := r-p+1\n",
    "if n=2 and A[p]>A[r] then\n",
    "    swap A[p] and A[r]\n",
    "else if n >= 3 then\n",
    "    m = ceil(2n/3)\n",
    "    DoSomething(A,p,p+m-1)\n",
    "    DoSomething(A,r-m+1,r)\n",
    "    DoSomething(A,p,p+m-1)  \n",
    "    \n",
    "---\n",
    "first call: DoSomething(A,1,n)\n",
    "```\n",
    "\n",
    "note：$ceil(2n/3)=\\left\\lceil {2n/3} \\right\\rceil$；$:=$ 表示赋值, 等价于 $\\to$；A是一个包含n的整数元素的数组, \n",
    "\n",
    "1. 写出该算法时间复杂度的递归公式, 并求解其对应的渐进表示\n",
    "2. 描述一下该算法的功能, 并判断是否是最高效的解决方案\n",
    "3. 使用python编程实现上述算法或其对应的更高效版本的算法\n"
   ]
  },
  {
   "cell_type": "markdown",
   "metadata": {},
   "source": [
    "idea：  \n",
    "递归公式:$T(n)=3*T(2n/3)+1$  \n",
    "\n",
    "渐进表示:$a=3，b=3/2，f(n)=1$  \n",
    "$\\Rightarrow \\exists \\varepsilon > 0，f(n)=O(n^{log_{3/2}3-ε})$  \n",
    "$\\Rightarrow T(n)=Θ(n^{log_{3/2}3})$  \n",
    "\n",
    "该算法的功能是: 升序排序数组。如果输入数组长度为2，则升序排序，  \n",
    "如果输入数组长度大于2，则先对前$2/3$部分用该算法排序，再对后$2/3$部分用该算法排序，最后对前$2/3$部分再次用该算法排序\n",
    "\n",
    "时间复杂度比冒泡排序$O(n^{2})$还高，不是最高效的解决方案"
   ]
  },
  {
   "cell_type": "markdown",
   "metadata": {},
   "source": [
    "answer:"
   ]
  },
  {
   "cell_type": "code",
   "execution_count": 28,
   "metadata": {},
   "outputs": [
    {
     "name": "stdout",
     "output_type": "stream",
     "text": [
      "[0, 0, 0, 2, 2, 2, 5, 9]\n"
     ]
    }
   ],
   "source": [
    "# add your code here\n",
    "import math\n",
    "def sort(A,p,r):\n",
    "    n = r-p+1\n",
    "    if n==2:\n",
    "        if A[p]>A[r]:\n",
    "            A[p],A[r] = A[r],A[p]\n",
    "    elif n>=3:\n",
    "        m = math.ceil(2*n/3)\n",
    "        sort(A,p,p+m-1)\n",
    "        sort(A,r-m+1,r)\n",
    "        sort(A,p,p+m-1)\n",
    "\n",
    "A = [2,0,0,2,0,5,2,9]\n",
    "sort(A,0,len(A)-1)\n",
    "print(A)\n",
    "# your algorithm time complexity is : n^log_{3/2}(3)"
   ]
  },
  {
   "cell_type": "markdown",
   "metadata": {},
   "source": [
    "## 问题 6：\n",
    "\n",
    "给定一个大小为 `n` 的数组 `nums` , 返回其中的多数元素。多数元素是指在数组中出现次数 **大于** `⌊ n/2 ⌋` 的元素。\n",
    "\n",
    "你可以假设数组是非空的, 并且给定的数组总是存在多数元素。\n",
    "\n",
    "1. 设计一个算法找到给定数组的多数元素, 分析算法设计思路, 计算算法时间复杂度, 使用python编程实现\n",
    "2. \\* 设计时间复杂度为 O(n)、空间复杂度为 O(1) 的算法解决此问题, 分析算法设计思路, 使用python编程实现\n",
    "\n",
    "e.g.:\n",
    "---\n",
    "1. nums=[3,2,3], 返回3\n",
    "2. nums=[2,2,1,1,1,2,2], 返回2\n"
   ]
  },
  {
   "cell_type": "markdown",
   "metadata": {},
   "source": [
    "idea：  \n",
    "维护一个字典保存每个元素的出现次数, 当有元素满足多数元素所需的出现次数时, 停止并输出多数元素, 需要遍历数组一次，时间复杂度为$O(n)$  \n",
    "\n"
   ]
  },
  {
   "cell_type": "code",
   "execution_count": 41,
   "metadata": {},
   "outputs": [
    {
     "name": "stdout",
     "output_type": "stream",
     "text": [
      "2\n"
     ]
    }
   ],
   "source": [
    "# add your code here\n",
    "nums=[2,2,1,1,1,2,2]\n",
    "count = {}\n",
    "for i in nums:\n",
    "    count[i] = count.get(i,0)+1\n",
    "    if count[i]>(len(nums)//2):\n",
    "        print(i)\n",
    "        break\n",
    "\n",
    "# your algorithm time complexity is : O(n)"
   ]
  },
  {
   "cell_type": "markdown",
   "metadata": {},
   "source": [
    "idea for 2\\*：  \n",
    "维护当前的多数元素和其支持数，相同元素出现时支持数+1，不同元素出现时支持数-1。  \n",
    "由于多数元素的数量大于其他元素数量的总和，所以其他元素可以与多数元素一一抵消，最后留下的一定是多数元素。"
   ]
  },
  {
   "cell_type": "code",
   "execution_count": 42,
   "metadata": {},
   "outputs": [
    {
     "name": "stdout",
     "output_type": "stream",
     "text": [
      "2\n"
     ]
    }
   ],
   "source": [
    "# algorithm time complexity：O(n), space complexity:O(1)\n",
    "# add your code here\n",
    "nums=[2,2,1,1,1,2,2]\n",
    "duoshu = None\n",
    "vote = 0\n",
    "for i in nums:\n",
    "    if vote==0:\n",
    "        duoshu = i\n",
    "    vote+=1 if i==duoshu else -1\n",
    "print(duoshu)\n",
    "    "
   ]
  },
  {
   "cell_type": "markdown",
   "metadata": {},
   "source": [
    "## 问题 7：\n",
    "\n",
    "给定一个包含不同整数元素的数组 $ A[1..n]$ ,并且满足条件：$A[1]>A[2]$ 并且 $A[n-1]<A[n]$; 规定：如果一个元素比它两边的邻居元素都小, 即：$A[x]<A[x-1], A[x]<A[x+1]$ , 称这个元素A[x]为“局部最小”。通过遍历一次数组, 我们可以很容易在 $O(n)$的时间复杂度下找到一个局部最小值, \n",
    "\n",
    "\n",
    "1. 分析该问题, 设计一个算法在$O(logn)$的时间复杂度下找到一个局部最小(返回数值), 要求：分析算法设计思路, 并且使用python编程实现\n",
    "2. \\* 设计算法找出所有局部最小值, 分析算法设计思路, 并使用python编程实现\n",
    "\n",
    "e.g.:\n",
    "---\n",
    "A=[9, 3, 7, 2, 1, 4, 5 ] 时,  局部最小元素为 3, 1\n"
   ]
  },
  {
   "cell_type": "markdown",
   "metadata": {},
   "source": [
    "idea：  \n",
    "数组两端有向内递减趋势时，能保证中间存在局部最小值。直接判断数组中间的值是否满足局部最小值，若满足直接返回  \n",
    "若不满足，则数组前半段或后半段一定有至少一段满足数组两端向内递减，反复搜索，每次搜索范围减半，满足$O(logn)$的时间复杂度"
   ]
  },
  {
   "cell_type": "code",
   "execution_count": 45,
   "metadata": {},
   "outputs": [
    {
     "name": "stdout",
     "output_type": "stream",
     "text": [
      "1\n"
     ]
    }
   ],
   "source": [
    "# add your code here\n",
    "A=[9, 3, 7, 2, 1, 4, 5]\n",
    "def find(A,start,end):\n",
    "    mid=(start+end)//2\n",
    "    if A[mid-1]>A[mid] and A[mid]<A[mid+1]:\n",
    "        return A[mid]\n",
    "    elif A[mid-1]<A[mid]:\n",
    "        return find(A,start,mid-1)\n",
    "    else:\n",
    "        return find(A,mid+1,end)\n",
    "print(find(A,0,len(A)-1))\n",
    "# your algorithm time complexity is :O(logn)"
   ]
  },
  {
   "cell_type": "markdown",
   "metadata": {},
   "source": [
    "idea:  \n",
    "遍历数组，逐个判断, 需要遍历一遍数组故时间复杂度为$O(n)$  "
   ]
  },
  {
   "cell_type": "code",
   "execution_count": 48,
   "metadata": {},
   "outputs": [
    {
     "name": "stdout",
     "output_type": "stream",
     "text": [
      "3\n",
      "1\n"
     ]
    }
   ],
   "source": [
    "# add your code here\n",
    "A=[9, 3, 7, 2, 1, 4, 5]\n",
    "for i in range(len(A)):\n",
    "    if i==0 or i==len(A)-1:\n",
    "        continue\n",
    "    if A[i-1]>A[i] and A[i]<A[i+1]:\n",
    "        print(A[i])\n",
    "    \n",
    "# your algorithm time complexity is :O(n)"
   ]
  },
  {
   "cell_type": "markdown",
   "metadata": {},
   "source": [
    "## 问题 8：\n",
    "\n",
    "给定包含n个不同数字的一组数, 寻找一种基于比较的算法在这组数中找到k个最小的数字, 并按顺序输出它们。\n",
    "\n",
    "1. 将n个数先进行排序, 然后按顺序输出最小的k个数。要求：选择合适的排序算法实现上述操作, 计算算法时间复杂度, 并使用python编程实现。\n",
    "2. 建立一个包含这n个数的堆（heap）, 并且调用 k 次Extract-min 按顺序输出最小的k个数。使用往空堆中不断插入元素的方法建立堆, 分析这种方法建堆的时间复杂度, 并使用python编程实现\n",
    "3. \\* 假设数组中包含的数据总数目超过了计算机的存储能力, 请设计一个算法, 找到这堆数据的前k小的数值, 计算时间复杂度, 并使用python实现该算法, 假设计算机一定能存储k个数据。\n",
    "\n",
    "e.g.：\n",
    "---\n",
    "数组arr=[5,4,3,2,6,1,88,33,22,107] 的前3个最小数据为：1, 2, 3\n"
   ]
  },
  {
   "cell_type": "markdown",
   "metadata": {},
   "source": [
    "idea：  \n",
    "第一题思路:选择快速排序，快速排序最优情况$T(n)=2*T(n/2)+n，a=2,b=2,f(n)=n$，由主定理时间复杂度为$O(nlogn)$，最差情况每次以最大或最小值划分，  \n",
    "等价于冒泡排序，为$O(n^2)$，平均为$O(nlogn)$。按顺序输出最小的$k$个数时间复杂度为$O(1)$，算法总时间复杂度为$O(nlogn)$  \n",
    "\n",
    "第二题思路:插入第$i$个元素时，需要比较和交换$O(logi)$次，对于$n$个元素，总时间复杂度为$\\sum\\limits_{i=1}^{n}O(logi)=O(logn!)\\approx O(nlogn)$  \n",
    "\n",
    "第三题思路:维护一个$k$个元素的最大堆，遍历数组时保留$k$个最小的元素，遇到比最大堆堆顶元素小的元素就替换堆顶元素并调整堆  \n",
    "每次堆操作时间复杂度为$O(logk)$，遍历数组需要$n$次堆操作，故总时间复杂度为$O(nlogk)$"
   ]
  },
  {
   "cell_type": "code",
   "execution_count": 54,
   "metadata": {},
   "outputs": [
    {
     "name": "stdout",
     "output_type": "stream",
     "text": [
      "1\n",
      "2\n",
      "3\n",
      "1\n",
      "2\n",
      "3\n",
      "3\n",
      "2\n",
      "1\n"
     ]
    }
   ],
   "source": [
    "# add your code here\n",
    "arr=[5,4,3,2,6,1,88,33,22,107]\n",
    "k=3\n",
    "def quick_sort(arr,start,end):\n",
    "    if start>=end:\n",
    "        return\n",
    "    mid = arr[start] \n",
    "    low = start \n",
    "    high = end \n",
    "    while low<high:\n",
    "        while low<high and arr[high]>=mid:\n",
    "            high-=1\n",
    "        arr[low] = arr[high] \n",
    "        while low<high and arr[low]<mid:\n",
    "            low+=1\n",
    "        arr[high] = arr[low]\n",
    "    arr[low] = mid\n",
    "    quick_sort(arr,start,low-1)  \n",
    "    quick_sort(arr,low+1,end) \n",
    "\n",
    "quick_sort(arr,0,len(arr)-1)\n",
    "for i in range(k):\n",
    "    print(arr[i])\n",
    "\n",
    "class MinHeap:\n",
    "    def __init__(self):\n",
    "        self.heap = []\n",
    "\n",
    "    def parent(self, i):\n",
    "        return (i - 1) // 2\n",
    "\n",
    "    def left_child(self, i):\n",
    "        return 2 * i + 1\n",
    "\n",
    "    def right_child(self, i):\n",
    "        return 2 * i + 2\n",
    "\n",
    "    def get_min(self):\n",
    "        if not self.heap:\n",
    "            return None\n",
    "        return self.heap[0]\n",
    "        \n",
    "    def insert(self, item):\n",
    "        self.heap.append(item)\n",
    "        self._heapify_up(len(self.heap) - 1)\n",
    "\n",
    "    def extract_min(self):\n",
    "        if not self.heap:\n",
    "            return None\n",
    "\n",
    "        min_item = self.heap[0]\n",
    "        last_item = self.heap.pop()\n",
    "        if self.heap:\n",
    "            self.heap[0] = last_item\n",
    "            self._heapify_down(0)\n",
    "        return min_item\n",
    "\n",
    "    def _heapify_up(self, i):\n",
    "        while i > 0 and self.heap[i] < self.heap[self.parent(i)]:\n",
    "            self.heap[i], self.heap[self.parent(i)] = self.heap[self.parent(i)], self.heap[i]\n",
    "            i = self.parent(i)\n",
    "\n",
    "    def _heapify_down(self, i):\n",
    "        min_index = i\n",
    "        left = self.left_child(i)\n",
    "        if left < len(self.heap) and self.heap[left] < self.heap[min_index]:\n",
    "            min_index = left\n",
    "        right = self.right_child(i)\n",
    "        if right < len(self.heap) and self.heap[right] < self.heap[min_index]:\n",
    "            min_index = right\n",
    "        if i != min_index:\n",
    "            self.heap[i], self.heap[min_index] = self.heap[min_index], self.heap[i]\n",
    "            self._heapify_down(min_index)\n",
    "\n",
    "heap = MinHeap()\n",
    "for i in arr:\n",
    "    heap.insert(i)\n",
    "for i in range(k):\n",
    "    print(heap.extract_min())\n",
    "\n",
    "class MaxHeap:\n",
    "    def __init__(self):\n",
    "        self.heap = []\n",
    "\n",
    "    def parent(self, i):\n",
    "        return (i - 1) // 2\n",
    "\n",
    "    def left_child(self, i):\n",
    "        return 2 * i + 1\n",
    "\n",
    "    def right_child(self, i):\n",
    "        return 2 * i + 2\n",
    "\n",
    "    def get_max(self):\n",
    "        if not self.heap:\n",
    "            return None\n",
    "        return self.heap[0]\n",
    "\n",
    "    def insert(self, item):\n",
    "        self.heap.append(item)\n",
    "        self._heapify_up(len(self.heap) - 1)\n",
    "\n",
    "    def extract_max(self):\n",
    "        if not self.heap:\n",
    "            return None\n",
    "\n",
    "        max_item = self.heap[0]\n",
    "        last_item = self.heap.pop()\n",
    "        if self.heap:\n",
    "            self.heap[0] = last_item\n",
    "            self._heapify_down(0)\n",
    "        return max_item\n",
    "\n",
    "    def _heapify_up(self, i):\n",
    "        while i > 0 and self.heap[i] > self.heap[self.parent(i)]:\n",
    "            self.heap[i], self.heap[self.parent(i)] = self.heap[self.parent(i)], self.heap[i]\n",
    "            i = self.parent(i)\n",
    "\n",
    "    def _heapify_down(self, i):\n",
    "        max_index = i\n",
    "        left = self.left_child(i)\n",
    "        if left < len(self.heap) and self.heap[left] > self.heap[max_index]:\n",
    "            max_index = left\n",
    "        right = self.right_child(i)\n",
    "        if right < len(self.heap) and self.heap[right] > self.heap[max_index]:\n",
    "            max_index = right\n",
    "        if i != max_index:\n",
    "            self.heap[i], self.heap[max_index] = self.heap[max_index], self.heap[i]\n",
    "            self._heapify_down(max_index)\n",
    "count = 0\n",
    "heap = MaxHeap()\n",
    "for i in arr:\n",
    "    if count < k:\n",
    "        heap.insert(i)\n",
    "        count+=1\n",
    "    else:\n",
    "        if heap.get_max()>i:\n",
    "            heap.extract_max()\n",
    "            heap.insert(i)\n",
    "for i in range(k):\n",
    "    print(heap.extract_max())\n",
    "    \n",
    "    \n",
    "# your algorithm time complexity is :"
   ]
  },
  {
   "cell_type": "markdown",
   "metadata": {},
   "source": [
    "## 问题 9：\n",
    "\n",
    "**选择问题**:给定一个包含n个未排序值的数组A和一个$k≤n$的整数, 返回A中最小的第k项。\n",
    "\n",
    "在课堂上, 学了一个简单的O(n)随机算法来解决选择问题。事实上还有一种更复杂的最坏情况下时间复杂度为$O(n)$ 的选择算法。假设使用一个黑盒过程来实现这个O(n)选择算法: 给定一个数组A、 $p < r$ 和 k,  $BB(A, p, r, k)$ 可以在$O(r−p+ 1)$时间内找到并报告$A[p..r]$中第k小的项的下标。假设你可以在线性时间内处理Partition过程。\n",
    "\n",
    "1. 请分析如何修改 Quicksork 算法可以使其最差情况下的运行时间为 $O(nlogn)$, 使用伪代码实现, 并分析为何修改后的版本最差情况的运行时间为$O(nlogn)$\n",
    "\n",
    "note: 伪代码中, 你可以直接调用用` BB(A,p,r,k)`这个函数用于表示在最坏情况下时间复杂度为$O(n)$的选择算法；\n",
    "\n",
    "\n",
    "\n",
    "2. 找到一个更好的算法报告数组A中的前k小的项, 使用伪代码表示你的算法, 并分析你算法的时间复杂度。\n",
    "\n",
    "举例：A=[13, 3, 7, 9, 11, 1, 15, 2, 8, 10, 12, 16, 14, 5], 当k=4时, 应该报告1, 2, 3, 4\n",
    "\n",
    "note： 最直观的方法就是先将数组A排序, 然后从左向右报告其前k项, 这样操作的时间复杂度为$O(nlogn)$. 调用用` BB(A,p,r,k)`设计一个算法使其报告无序数组A的前k项, 满足时间复杂度好于$\\Theta(nlogn)$, 并且当$k=\\sqrt{n}$时, 你设计的算法时间复杂度应该为$\\Theta(n)$.\n",
    "\n",
    "\n",
    "\n",
    "3. 给定一个大小为n的数组, 找到一个 时间复杂度为$O(n log k)$ 的算法, 该算法将A中的元素重新排序, 使它们被划分为k个部分, 每个部分的元素小于或等于下一部分的元素。假设n和k都是2的幂。使用伪代码表示你的算法, 并分析时间复杂度。\n",
    "\n",
    "e.g.:\n",
    "---\n",
    "数组：[1,  3,  5,  7,  9,  11,  13,  15,  2,  4,  6,  8,  10,  12,  16,  14], k=4, \n",
    "\n",
    "对应重新排序的数组为：[1,  3,  2,  4]  [7,  6,  5,  8]  [12,  11,  10,  9]  [13,  14,  16,  15]\n",
    "\n",
    "\n"
   ]
  },
  {
   "cell_type": "markdown",
   "metadata": {},
   "source": [
    "idea：  \n",
    "第一题思路:通过$BB$函数，可以使得每次划分后子数组大小为原数组的一半，$T(n)=2*T(n/2)+n，a=2,b=2,f(n)=n$，由主定理时间复杂度为$O(nlogn)$  \n",
    "\n",
    "第二题思路:通过$BB$函数，找到第$k$小的值，遍历数组，输出所有小于$k$的值，遍历完成后，重复输出第$k$小的值，直到输出数字的总数等于$k$  \n",
    "其最坏时间复杂度为$BB$函数$O(n)$+遍历数组$O(n)$=$O(2n)$, 满足时间复杂度好于$\\Theta(nlogn)$，并当$k=\\sqrt{n}$时，时间复杂度为$\\Theta(n)$ \n",
    "\n",
    "第三题思路:每次将当前所有块均匀分割为两部分，共$logk$次分割，每次分割所有块的总时间为$O(n)$，总层数$logk$，时间复杂度$O(nlogk)$  \n",
    "每次分割通过$BB$选择中位数确保左右部分有序，最终$k$部分满足每个部分元素小于等于下一部分"
   ]
  },
  {
   "cell_type": "code",
   "execution_count": 2,
   "metadata": {},
   "outputs": [
    {
     "ename": "SyntaxError",
     "evalue": "invalid syntax (3662447976.py, line 2)",
     "output_type": "error",
     "traceback": [
      "\u001b[1;36m  Cell \u001b[1;32mIn[2], line 2\u001b[1;36m\u001b[0m\n\u001b[1;33m    QuickSort(A, p, r):\u001b[0m\n\u001b[1;37m                      ^\u001b[0m\n\u001b[1;31mSyntaxError\u001b[0m\u001b[1;31m:\u001b[0m invalid syntax\n"
     ]
    }
   ],
   "source": [
    "# add your pseudo-code here\n",
    "QuickSort(A, p, r):\n",
    "    if p < r:\n",
    "        mid = BB(A, p, r, (r - p + 1) // 2)\n",
    "        swap A[mid] and A[r]\n",
    "        q = Partition(A, p, r)\n",
    "        ModifiedQuickSort(A, p, q-1)\n",
    "        ModifiedQuickSort(A, q+1, r)\n",
    "\n",
    "find(A,p,r,k):\n",
    "    bb = BB(A,p,r,k)\n",
    "    count = 0\n",
    "    for i in A:\n",
    "        if i<bb:\n",
    "            print(i)\n",
    "            count+=1\n",
    "    while count<k:\n",
    "        print(bb)\n",
    "        count+=1\n",
    "\n",
    "partition_k_sections(A, k):\n",
    "    blocks = [(0, len(A)-1)]  # 初始块为整个数组\n",
    "    m = 1\n",
    "    while m < k:\n",
    "        new_blocks = []\n",
    "        for (start, end) in blocks:\n",
    "            mid = (end - start + 1) // 2\n",
    "            index = BB(A, start, end, mid)  # 中位数下标\n",
    "            swap(A, index, end)\n",
    "            q = partition(A, start, end)  # 分割为两部分\n",
    "            new_blocks.append((start, q-1))\n",
    "            new_blocks.append((q, end))\n",
    "        blocks = new_blocks\n",
    "        m *= 2\n",
    "    return A"
   ]
  },
  {
   "cell_type": "markdown",
   "metadata": {},
   "source": [
    "## 问题 10：\n",
    "\n",
    "给定一个包含m个**字符串**的数组A, 其中不同的字符串可能有不同的字符数, 但数组中所有字符串的字符总数为n。设计一个算法在 $O(n)$ 时间内对字符串进行排序, 分析算法设计方案, 计算其时间复杂度, 并基于python编程实现该算法。请注意, 假设字符串只包含\"a\",\"b\",...,\"z\", \n",
    "\n",
    "\n",
    "\n",
    "举例1：数组A=[\"a\", \"da\", \"bde\", \"ab\", \"bc\", \"abdc\", \"cdba\"], 排序后的数组应该为：['a', 'ab', 'abdc', 'bc', 'bde', 'cdba', 'da']\n",
    "\n",
    "\n",
    "\n",
    "举例2：数组A=['ab', 'a', 'b', 'abc', 'ba', 'c'], 排序后的数组应该为：\n",
    "\n",
    "['a', 'ab', 'abc', 'b', 'ba', 'c']\n",
    "\n",
    "\n",
    "\n",
    "举例3：数组A=['aef', 'yzr', 'wr', 'ab', 'bhjc', 'lkabdc', 'pwcdba'],  排序后的数组应该为：['ab', 'aef', 'bhjc', 'lkabdc', 'pwcdba', 'wr', 'yzr']\n",
    "\n",
    "\n",
    "\n",
    "note：\n",
    "\n",
    "-  两个字符之间的比较可以考虑比较他们对应的ASCII码值；\n",
    "- python中可以使用`ord(\"a\")`返回字符 “a”对应的ASCII值"
   ]
  },
  {
   "cell_type": "markdown",
   "metadata": {},
   "source": [
    "idea:  \n",
    "根据当前字符位置$d$将字符串分为短字符串（shorter）和长字符串（longer）  \n",
    "对长字符串按当前字符分到对应的26个字母桶中，递归处理每个桶的下一个字符位置   \n",
    "将短字符串直接放在前面，后面按字母顺序合并各个桶的递归处理结果  \n",
    "确保每个字符仅被处理一次，总时间复杂度$为O(n)$"
   ]
  },
  {
   "cell_type": "code",
   "execution_count": 3,
   "metadata": {
    "scrolled": true
   },
   "outputs": [
    {
     "name": "stdout",
     "output_type": "stream",
     "text": [
      "['a', 'ab', 'abdc', 'bc', 'bde', 'cdba', 'da']\n",
      "['a', 'ab', 'abc', 'b', 'ba', 'c']\n",
      "['ab', 'aef', 'bhjc', 'lkabdc', 'pwcdba', 'wr', 'yzr']\n"
     ]
    }
   ],
   "source": [
    "# add your code here\n",
    "def sort_strings(A):\n",
    "    def msd_sort(strings, d):\n",
    "        if len(strings) <= 1:\n",
    "            return strings.copy()\n",
    "        # 将字符串分为长度<=d和>d的两组\n",
    "        shorter = []\n",
    "        longer = []\n",
    "        for s in strings:\n",
    "            if len(s) <= d:\n",
    "                shorter.append(s)\n",
    "            else:\n",
    "                longer.append(s)\n",
    "        # 创建26个桶，对应a-z\n",
    "        buckets = [[] for _ in range(26)]\n",
    "        for s in longer:\n",
    "            char = s[d]\n",
    "            idx = ord(char) - ord('a')\n",
    "            buckets[idx].append(s)\n",
    "        # 递归处理每个桶并收集结果\n",
    "        sorted_longer = []\n",
    "        for bucket in buckets:\n",
    "            if bucket:\n",
    "                sorted_bucket = msd_sort(bucket, d + 1)\n",
    "                sorted_longer.extend(sorted_bucket)\n",
    "        # 合并shorter和已排序的longer部分\n",
    "        return shorter + sorted_longer\n",
    "    \n",
    "    if not A:\n",
    "        return []\n",
    "    return msd_sort(A, 0)\n",
    "\n",
    "# 测试示例\n",
    "example1 = [\"a\", \"da\", \"bde\", \"ab\", \"bc\", \"abdc\", \"cdba\"]\n",
    "print(sort_strings(example1))  # 输出: ['a', 'ab', 'abdc', 'bc', 'bde', 'cdba', 'da']\n",
    "\n",
    "example2 = ['ab', 'a', 'b', 'abc', 'ba', 'c']\n",
    "print(sort_strings(example2))  # 输出: ['a', 'ab', 'abc', 'b', 'ba', 'c']\n",
    "\n",
    "example3 = ['aef', 'yzr', 'wr', 'ab', 'bhjc', 'lkabdc', 'pwcdba']\n",
    "print(sort_strings(example3))  # 输出: ['ab', 'aef', 'bhjc', 'lkabdc', 'pwcdba', 'wr', 'yzr']\n",
    "# your algorithm time complexity is :"
   ]
  },
  {
   "cell_type": "code",
   "execution_count": null,
   "metadata": {},
   "outputs": [],
   "source": []
  }
 ],
 "metadata": {
  "kernelspec": {
   "display_name": "Python 3 (ipykernel)",
   "language": "python",
   "name": "python3"
  },
  "language_info": {
   "codemirror_mode": {
    "name": "ipython",
    "version": 3
   },
   "file_extension": ".py",
   "mimetype": "text/x-python",
   "name": "python",
   "nbconvert_exporter": "python",
   "pygments_lexer": "ipython3",
   "version": "3.12.7"
  }
 },
 "nbformat": 4,
 "nbformat_minor": 4
}
