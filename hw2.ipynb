{
 "cells": [
  {
   "cell_type": "markdown",
   "metadata": {},
   "source": [
    "## algorithm design and anlysis-2025 spring  homework 2\n",
    "**Deadline**：2025.5.14\n",
    "\n",
    "**name**:\n",
    "\n",
    "\n",
    "note：\n",
    "---\n",
    "1. 带有\\*的题目，申请免上课的同学，必须完成，其他同学选作；\n",
    "2. 请独立完成，如求助了他人或者大模型，请著明，并且不可省略算法分析部分；\n",
    "4. 如若作答有雷同，全部取消成绩；\n",
    "3. 需要书面作答的题目，可以通过引用图片的形式添加，但是注意上传项目时包含所引用的图片的源文件；\n",
    "4. $log_n$ 默认表示$log_2{n}$;"
   ]
  },
  {
   "cell_type": "markdown",
   "metadata": {},
   "source": [
    "## 问题 1  \n",
    "\n",
    "> 给定一个已排序的链表的头 `head` ， *删除所有重复的元素，使每个元素只出现一次* 。返回 *已排序的链表* 。链表的类如下所示：\n",
    "\n",
    "```python\n",
    "class NodeList:\n",
    "    def __init__(self, val=None, right=None):\n",
    "        self.val   = val\n",
    "        self.right = right\n",
    "```\n",
    "\n",
    "输入是一个数组，你首先需要将数组转化为链表，然后删除链表中的重复元素，再遍历链表元素，以一个数组的形式返回。请设计一个算法解决上述任务，分析算法设计思路，计算时间复杂度, 并基于python编程实现。\n",
    "\n",
    "e.g.  输入：head=[1, 1, 2, 3, 3]   输出：[1, 2, 3]\n",
    "\n",
    "![image-20240502110020439](./fig/hw2q1.png)\n",
    "\n"
   ]
  },
  {
   "cell_type": "markdown",
   "metadata": {},
   "source": [
    "idea：  \n",
    "遍历链表，如果一个元素与下一个元素相同，就跳过下一个节点，链表构造和转为数组都是$O(n)$时间复杂度，删除重复元素每个元素最多被访问2次，也是$O(n)$  \n",
    "总时间复杂度为$O(n)$"
   ]
  },
  {
   "cell_type": "code",
   "execution_count": 2,
   "metadata": {},
   "outputs": [
    {
     "name": "stdout",
     "output_type": "stream",
     "text": [
      "[1, 2, 3]\n"
     ]
    }
   ],
   "source": [
    "# add your idea here\n",
    "head=[1, 1, 2, 3, 3]\n",
    "class NodeList:\n",
    "    def __init__(self, val=None, right=None):\n",
    "        self.val = val\n",
    "        self.right = right\n",
    "\n",
    "def array_to_linked_list(arr):\n",
    "    dummy = NodeList()\n",
    "    tail = dummy\n",
    "    for num in arr:\n",
    "        tail.right = NodeList(num)\n",
    "        tail = tail.right\n",
    "    return dummy.right\n",
    "\n",
    "def delete_duplicates(head):\n",
    "    current = head\n",
    "    while current and current.right:\n",
    "        if current.val == current.right.val:\n",
    "            current.right = current.right.right\n",
    "        else:\n",
    "            current = current.right\n",
    "    return head\n",
    "\n",
    "def linked_list_to_array(head):\n",
    "    res = []\n",
    "    current = head\n",
    "    while current:\n",
    "        res.append(current.val)\n",
    "        current = current.right\n",
    "    return res\n",
    "\n",
    "def solution(arr):\n",
    "    head = array_to_linked_list(arr)\n",
    "    new_head = delete_duplicates(head)\n",
    "    return linked_list_to_array(new_head)\n",
    "print(solution(head))\n",
    "# your algorithm time complexity is:O(n)"
   ]
  },
  {
   "cell_type": "markdown",
   "metadata": {},
   "source": [
    "## 问题 2  \n",
    "\n",
    "> 下面是一个经典的算法问题：\n",
    ">\n",
    "> - 给定包含n个整数的一个整数数组 `nums` 和一个整数目标值 `target`，请你在该数组中找出 **和为目标值** *`target`* 的那 **两个** 整数，并返回它们的**数组下标**。假设每种输入只会对应一个答案。但是，数组中同一个元素在答案里不能重复出现。你可以按任意顺序返回答案。\n",
    ">\n",
    "> 由于要多次查找数组中元素的位置，为了提高查询效率可以使用哈希表来存储数组中的数据，在哈希表中查询一个元素的复杂度为O(1)。 已知python中的字典是使用哈希表实现的，即使用`dict[key]`查询对应的value时间复杂度为O(1), python提供了查询字典是否包含某个key的功能：`key in dict`，时间复杂度也是O(1)\n",
    "\n",
    "请根据上面信息，设计一个时间复杂度为O(n) 的算法，解决上述算法问题\n",
    "\n",
    "e.g.   \n",
    "\n",
    "输入：nums=[2,7,11,15], target=9， 输出：[0，1]\n",
    "\n",
    "输入：nums=[3,2,4], target=6, 输出：[1,2]\n",
    "\n",
    "输入：nums=[3,3], target=6,  输出：[0,1]\n"
   ]
  },
  {
   "cell_type": "code",
   "execution_count": 4,
   "metadata": {},
   "outputs": [
    {
     "name": "stdout",
     "output_type": "stream",
     "text": [
      "[0, 1]\n"
     ]
    }
   ],
   "source": [
    "# add your idea here\n",
    "def two_sum(nums, target):\n",
    "    hash_map = {}\n",
    "    for index, num in enumerate(nums):\n",
    "        complement = target - num\n",
    "        if complement in hash_map:\n",
    "            return [hash_map[complement], index]\n",
    "        hash_map[num] = index\n",
    "    return []\n",
    "nums,target=[2,7,11,15],9\n",
    "print(two_sum(nums,target))\n",
    "# your algorithm time complexity is: O(n)"
   ]
  },
  {
   "cell_type": "markdown",
   "metadata": {},
   "source": [
    "## 问题 3:   \n",
    "\n",
    "> 栈是一种常用的数据结构，编译器中通常使用栈来实现表达式求值。\n",
    ">\n",
    "> 以表达式 $3+5 \\times 8-6$​ 为例。编译器使用两个栈来完成运算，即一个栈保持操作数，另一个栈保存运算符。\n",
    ">\n",
    "> 1. 从左向右遍历表达式，遇到数字就压入操作数栈；\n",
    ">\n",
    "> 2. 遇到运算符，就与运算符栈的栈顶元素进行比较。如果比运算符栈顶元素的优先级高，就将当前运算符压入栈；如果比运算符栈顶元素的优先级低或者相同，从运算符栈中取栈顶运算符，从操作数栈的栈顶取 2 个操作数，然后进行计算，再把计算完的结果压入操作数栈，继续比较。\n",
    ">\n",
    "> 下图是 $3+5 \\times 8-6$  这个表达式的计算过程：\n",
    "\n",
    "![figure](./fig/hw2q3.png)\n",
    "\n",
    "根据上述原理，请设计一个算法完成表达式的运算，当输入为表达式字符串，返回对应的计算结果。分析算法设计思路，计算时间复杂度，并基于python编程实现\n",
    "\n",
    "**note：**\n",
    "\n",
    "1. 假设输入的表达式只会出现加（“+”），减 “-”， 乘“*”，除 “/” 四个运算符, 表达式中只会出现正整数\n",
    "2. python中` str.isdigit()`函数可以判断字符串str是否为数字，\n",
    "\n",
    "\n",
    "\n",
    "e.g. :\n",
    "---\n",
    "\n",
    "1. 输入：“$3+5 * 8 -6$”   输出：37\n",
    "\n",
    "2. 输入：“$34+13*9 + 44-12/3$”  输出：191"
   ]
  },
  {
   "cell_type": "markdown",
   "metadata": {},
   "source": [
    "idea：  \n",
    "将表达式转为后缀表达式计算，每个字符处理一次，运算符出入栈总次数不超过$n$，故时间复杂度为$O(n)$"
   ]
  },
  {
   "cell_type": "code",
   "execution_count": 2,
   "metadata": {},
   "outputs": [
    {
     "name": "stdout",
     "output_type": "stream",
     "text": [
      "37\n",
      "191\n"
     ]
    }
   ],
   "source": [
    "# add your idea here\n",
    "def evaluate_expression(s):\n",
    "    operand_stack = []\n",
    "    operator_stack = []\n",
    "    op_priority = {'+': 1, '-': 1, '*': 2, '/': 2}\n",
    "\n",
    "    def process_op():\n",
    "        op = operator_stack.pop()\n",
    "        b = operand_stack.pop()\n",
    "        a = operand_stack.pop()\n",
    "        if op == '+':\n",
    "            res = a + b\n",
    "        elif op == '-':\n",
    "            res = a - b\n",
    "        elif op == '*':\n",
    "            res = a * b\n",
    "        elif op == '/':\n",
    "            res = a / b\n",
    "        operand_stack.append(res)\n",
    "\n",
    "    i = 0\n",
    "    n = len(s)\n",
    "    while i < n:\n",
    "        if s[i].isdigit():\n",
    "            j = i\n",
    "            while j < n and s[j].isdigit():\n",
    "                j += 1\n",
    "            num = int(s[i:j])\n",
    "            operand_stack.append(num)\n",
    "            i = j\n",
    "        else:\n",
    "            current_op = s[i]\n",
    "            while operator_stack and op_priority[operator_stack[-1]] >= op_priority[current_op]:\n",
    "                process_op()\n",
    "            operator_stack.append(current_op)\n",
    "            i += 1\n",
    "\n",
    "    while operator_stack:\n",
    "        process_op()\n",
    "\n",
    "    result = operand_stack[0]\n",
    "    if isinstance(result, float) and result.is_integer():\n",
    "        return int(result)\n",
    "    else:\n",
    "        return result\n",
    "\n",
    "# 测试示例\n",
    "print(evaluate_expression(\"3+5*8-6\"))            # 输出 37\n",
    "print(evaluate_expression(\"34+13*9+44-12/3\"))  # 输出 191\n",
    "# your algorithm time complexity is: O(n)"
   ]
  },
  {
   "cell_type": "markdown",
   "metadata": {},
   "source": [
    "## 问题 4:  \n",
    "\n",
    "> 星球碰撞问题：现有n个星球，在同一条直线上运行，如数组A所示，元素的绝对值表示星球的质量，负数表示星球自右向左运动，正数表示星球自左向右运动，当两个星球相撞的时候，质量小的会消失，大的保持不变，**质量相同的两个星球碰撞后自右向左运动的星球消失，自左向右的星球保持不变**，假设所有星球的速度大小相同。\n",
    ">\n",
    "> $ A=[23,-8, 9, -3, -7, 9, -23, 22] $\n",
    "\n",
    "请设计一个算法模拟星球的运行情况，输出最终的星球存续情况（输出一个数组），分析算法设计思路，计算时间复杂度，并基于python编程实现。\n",
    "\n",
    "e.g.\n",
    "---\n",
    "1.  输入： A=[-3,-6,2,8, 5,-8,9,-2,1]， 输出：[-3, -6, 2, 8, 9, 1]\n",
    "\n",
    "2. 输入：A=[23,-8, 9, -3, -7, 9, -23, 22], 输出：[23, 22]\n",
    "\n"
   ]
  },
  {
   "cell_type": "code",
   "execution_count": 13,
   "metadata": {},
   "outputs": [
    {
     "name": "stdout",
     "output_type": "stream",
     "text": [
      "[-3, -6, 2, 8, 9, 1]\n",
      "[23, 22]\n"
     ]
    }
   ],
   "source": [
    "# add your idea here\n",
    "# 先考虑负数，负数的左侧没有能撞死它的就能输出\n",
    "# 维护一个值表示目前向右撞击的质量，即阻挡质量，阻挡质量在遇到正数时取两者最大的，遇到绝对值比它大的负数时归零\n",
    "# 遍历数组就能得到存活的负数\n",
    "# 将数组A反转，同样逻辑处理正数，最后输出\n",
    "# 一共遍历2n次数组，时间复杂度为O(2n)=O(n)\n",
    "def moni(A):\n",
    "    zudang = 0\n",
    "    result_neg = []\n",
    "    for i in A:\n",
    "        if -i>zudang:\n",
    "            result_neg.append(i)\n",
    "            zudang = 0\n",
    "        if i>zudang:\n",
    "            zudang=i\n",
    "    zudang = 0\n",
    "    result_pos = []\n",
    "    for i in A[::-1]:\n",
    "        if i>=zudang:\n",
    "            result_pos.append(i)\n",
    "            zudang = 0\n",
    "        if -i>zudang:\n",
    "            zudang=-i\n",
    "    result = result_neg+result_pos[::-1]\n",
    "    return result\n",
    "print(moni([-3,-6,2,8, 5,-8,9,-2,1]))\n",
    "print(moni([23,-8, 9, -3, -7, 9, -23, 22]))\n",
    "# your algorithm time complexity is:O(n)"
   ]
  },
  {
   "cell_type": "markdown",
   "metadata": {},
   "source": [
    "## 问题 5 \n",
    "\n",
    "> 给定一个无序数组nums=[9,-3,-10,0,9,7,33]，请建立一个二叉搜索树存储数组中的所有元素，之后删除二叉树中的元素“0”，再使用中序遍历输出二叉搜索树中的所有元素。\n",
    "\n",
    "使用python编程完成上述任务，并计算时间复杂度\n"
   ]
  },
  {
   "cell_type": "code",
   "execution_count": 15,
   "metadata": {},
   "outputs": [
    {
     "name": "stdout",
     "output_type": "stream",
     "text": [
      "[-10, -3, 7, 9, 9, 33]\n"
     ]
    }
   ],
   "source": [
    "# add your idea here\n",
    "# 插入每个元素的时间复杂度为 O(h)，总时间为 O(nh)，其中 h 是树高。最坏情况（输入有序）下 h=n，时间复杂度为 O(n^2)；平均情况下 h=logn，时间为 O(nlogn)。\n",
    "# 查找和删除操作的时间复杂度为 O(h)，最坏情况下为 O(n)\n",
    "# 中序遍历时间复杂度为 O(n)\n",
    "# 总平均时间复杂度 O(nlogn)\n",
    "class TreeNode:\n",
    "    def __init__(self, val=0, left=None, right=None):\n",
    "        self.val = val\n",
    "        self.left = left\n",
    "        self.right = right\n",
    "\n",
    "def insert_into_bst(root, val):\n",
    "    if not root:\n",
    "        return TreeNode(val)\n",
    "    if val < root.val:\n",
    "        root.left = insert_into_bst(root.left, val)\n",
    "    else:\n",
    "        root.right = insert_into_bst(root.right, val)\n",
    "    return root\n",
    "\n",
    "def find_min(node):\n",
    "    current = node\n",
    "    while current.left:\n",
    "        current = current.left\n",
    "    return current\n",
    "\n",
    "def delete_node(root, key):\n",
    "    if not root:\n",
    "        return None\n",
    "    if key < root.val:\n",
    "        root.left = delete_node(root.left, key)\n",
    "    elif key > root.val:\n",
    "        root.right = delete_node(root.right, key)\n",
    "    else:\n",
    "        if not root.left:\n",
    "            return root.right\n",
    "        elif not root.right:\n",
    "            return root.left\n",
    "        min_node = find_min(root.right)\n",
    "        root.val = min_node.val\n",
    "        root.right = delete_node(root.right, min_node.val)\n",
    "    return root\n",
    "\n",
    "def inorder_traversal(root):\n",
    "    res = []\n",
    "    def helper(node):\n",
    "        if node:\n",
    "            helper(node.left)\n",
    "            res.append(node.val)\n",
    "            helper(node.right)\n",
    "    helper(root)\n",
    "    return res\n",
    "\n",
    "def process_array(nums):\n",
    "    root = None\n",
    "    for num in nums:\n",
    "        root = insert_into_bst(root, num)\n",
    "    root = delete_node(root, 0)\n",
    "    return inorder_traversal(root)\n",
    "\n",
    "# 测试\n",
    "nums = [9, -3, -10, 0, 9, 7, 33]\n",
    "print(process_array(nums))  # 输出: [-10, -3, 7, 9, 9, 33]\n",
    "# your algorithm time complexity is: O(nlogn)"
   ]
  },
  {
   "cell_type": "markdown",
   "metadata": {},
   "source": [
    "## 问题 6  \n",
    "\n",
    "> 给定一个包含大写字母和小写字母的字符串 s ，返回 字符串包含的 **最长的回文子串的长度** 。请注意 区分大小写 。比如 \"Aa\" 不能当做一个回文字符串。\n",
    ">\n",
    "\n",
    "请设计一个算法解决上述问题，只需要输出最长回文子串的长度，分析算法设计思路，计算时间复杂度，并基于python编程实现\n",
    "\n",
    "e.g. 输入： s=\"adccaccd\"，  输出：7。 最长回文子串为：\"dccaccd\", 长度为7\n"
   ]
  },
  {
   "cell_type": "markdown",
   "metadata": {},
   "source": [
    "idea：  \n",
    "对于每个字符，尝试以该字符为中心（奇数长度）或以该字符和下一个字符的间隙为中心（偶数长度），向两边扩展  \n",
    "检查左右字符是否相等，直到无法扩展为止，计算当前回文长度  \n",
    "遍历所有可能的中心点，记录最大回文长度\n",
    "每个中心点扩展最多需要 $O(n)$ 时间,一共$n$个可能的中心点，故时间复杂度为$O(n^2)$"
   ]
  },
  {
   "cell_type": "code",
   "execution_count": 17,
   "metadata": {},
   "outputs": [
    {
     "name": "stdout",
     "output_type": "stream",
     "text": [
      "7\n"
     ]
    }
   ],
   "source": [
    "# add your idea here\n",
    "def longest_palindrome_length(s):\n",
    "    if not s:\n",
    "        return 0\n",
    "    \n",
    "    max_length = 0\n",
    "    \n",
    "    def expand_around_center(left, right):\n",
    "        while left >= 0 and right < len(s) and s[left] == s[right]:\n",
    "            left -= 1\n",
    "            right += 1\n",
    "        return right - left - 1  # 计算有效回文长度\n",
    "    \n",
    "    for i in range(len(s)):\n",
    "        len1 = expand_around_center(i, i)    # 奇数长度\n",
    "        len2 = expand_around_center(i, i+1)  # 偶数长度\n",
    "        current_max = max(len1, len2)\n",
    "        if current_max > max_length:\n",
    "            max_length = current_max\n",
    "    \n",
    "    return max_length\n",
    "\n",
    "# 测试示例\n",
    "s = \"adccaccd\"\n",
    "print(longest_palindrome_length(s))  # 输出：7\n",
    "# your algorithm time complexity is:O(n^2)\n"
   ]
  },
  {
   "cell_type": "markdown",
   "metadata": {},
   "source": [
    "## 问题 7 \n",
    "\n",
    "> 沿一条长河流分散着n座房子。你可以把这条河想象成一条轴，房子是由它们在这条轴上的坐标按顺序排列的。你的公司想在河边的特定地点设置手机基站，这样每户人家都在距离基站4公里的范围内。输入可以看作为一个升序数组，数组元素的取值为大于等于0的正整数，你需要输出最小基站的数目，基站的位置。\n",
    "\n",
    "1. 给出一个时间复杂度为$O(n$) 的算法，使所使用的基站数量最小化，分析算法设计思路，使用python编程实现\n",
    "2. 证明1.中算法产生了最优解决方案。\n",
    "\n",
    "e.g. \n",
    "\n",
    "输入： [1, 5, 12, 33, 34,35]  输出：基站数目为3， 基站位置为[1，12，33]\n",
    "\n"
   ]
  },
  {
   "cell_type": "markdown",
   "metadata": {},
   "source": [
    "idea：  \n",
    "对于每个未被覆盖的最左房子，设置基站并计算其覆盖范围,找到最远能被当前基站覆盖的房子，跳过这些已覆盖的房子  \n",
    "继续处理剩余未被覆盖的房子，直到所有房子都被覆盖  \n",
    "每个房子仅被访问一次，内部循环直接跳转到下一个未覆盖的索引,故而时间复杂度为$O(n)$  \n",
    "\n",
    "证明:   \n",
    "子问题定义：在覆盖 $h_i$ 的最优基站位置 $s'_1=h_i+4$ 后，剩余未被覆盖的房子为 $H′={h_j∣h_j>s'_1+4}$。我们需要证明子问题 $H′$ 的最优解与全局最优解一致   \n",
    "贪心策略的覆盖范围 $[h_i,h_i+8]$ 是最大的可能覆盖范围    \n",
    "任何其他策略的覆盖范围右边界必然 $≤h_i+8$，因此子问题 $H′$ 的规模不会更小    \n",
    "若子问题 $H'$ 存在更优的解，则原问题的最优解可以通过贪心策略与子问题的更优解组合得到，导致矛盾   \n",
    "因此，贪心策略的子问题结构与原问题的最优解一致  "
   ]
  },
  {
   "cell_type": "code",
   "execution_count": 19,
   "metadata": {},
   "outputs": [
    {
     "name": "stdout",
     "output_type": "stream",
     "text": [
      "基站数目: 3\n",
      "基站位置: [1, 12, 33]\n"
     ]
    }
   ],
   "source": [
    "# add your idea here\n",
    "def min_base_stations(houses):\n",
    "    if not houses:\n",
    "        return 0, []\n",
    "    \n",
    "    stations = []\n",
    "    n = len(houses)\n",
    "    i = 0\n",
    "    \n",
    "    while i < n:\n",
    "        # 当前基站的坐标为 houses[i]\n",
    "        current_station = houses[i]\n",
    "        stations.append(current_station)\n",
    "        max_reach = current_station + 4\n",
    "        \n",
    "        # 寻找最远的被覆盖的房子\n",
    "        j = i\n",
    "        while j < n and houses[j] <= max_reach:\n",
    "            j += 1\n",
    "        \n",
    "        i = j  # 更新到下一个未被覆盖的房子\n",
    "    \n",
    "    return len(stations), stations\n",
    "\n",
    "# 测试示例\n",
    "houses = [1, 5, 12, 33, 34, 35]\n",
    "count, positions = min_base_stations(houses)\n",
    "print(\"基站数目:\", count)\n",
    "print(\"基站位置:\", positions)\n",
    "# your algorithm time complexity is:O(n)"
   ]
  },
  {
   "cell_type": "markdown",
   "metadata": {},
   "source": [
    "## 问题 8  \n",
    "\n",
    "> 给定由n个正整数组成的一个集合$S = \\{a_1, a_2，···，a_n\\}$和一个正整数W，设计一个算法确定是否存在S的一个子集 $K \\subseteq S$, 使K中所有数之和为 $W$, 如果存在返回“True”，否则返回“False”\n",
    "\n",
    "请设计一个时间复杂度为$O(nW)$动态规划算法，解决上述问题，分析算法的设计思路，并且基于python编程实现（不需要输出子集）。\n",
    "\n",
    "e.g. \n",
    "\n",
    "输入：S = {1,4,7,3,5}， W = 11，输出：True。   因为K可以是{4,7}。\n",
    "\n"
   ]
  },
  {
   "cell_type": "markdown",
   "metadata": {},
   "source": [
    "idea：  \n",
    "使用一个一维数组$dp$，其中$dp[j]$表示是否存在子集使得其和为$j$。初始化$dp[0] = True$（空集和为0）。    \n",
    "对于每个元素$num$，从后向前更新$dp$数组，确保每个元素只使用一次。若$dp[W]$最终为$True$，则存在满足条件的子集"
   ]
  },
  {
   "cell_type": "code",
   "execution_count": 21,
   "metadata": {},
   "outputs": [
    {
     "name": "stdout",
     "output_type": "stream",
     "text": [
      "True\n"
     ]
    }
   ],
   "source": [
    "# add your idea here\n",
    "def subset_sum(S, W):\n",
    "    dp = [False] * (W + 1)\n",
    "    dp[0] = True  # 空子集的和为0\n",
    "    \n",
    "    for num in S:\n",
    "        if num > W:\n",
    "            continue\n",
    "        # 倒序遍历，避免重复使用同一元素\n",
    "        for j in range(W, num - 1, -1):\n",
    "            if dp[j - num]:\n",
    "                dp[j] = True\n",
    "    \n",
    "    return dp[W]\n",
    "\n",
    "# 测试示例\n",
    "S = [1, 4, 7, 3, 5]\n",
    "W = 11\n",
    "print(subset_sum(S, W))  # 输出: True\n",
    "# your algorithm time complexity is: O(nW)"
   ]
  },
  {
   "cell_type": "markdown",
   "metadata": {},
   "source": [
    "\n",
    "\n",
    "## 问题 9 \n",
    "\n",
    "> 给定一个n个物品的集合。物体的重量为$w_1, w_2，…、w_n$，物品的价值分别是$v_1、v_2、…v_n$。给你**两个**重量为 $c$ 的背包。如果你带了一个东西，它可以放在一个背包里，也可以放在另一个背包里，但不能同时放在两个背包里。所有权重和价值都是正整数。\n",
    "\n",
    "1. 设计一个时间复杂度为 $O(nc^2)$ 的动态规划算法，确定可以放入两个背包的物体的最大价值。分析算法设计思路，并基于python编程实现\n",
    "2. \\* 修改1中的算法，输出每个背包的内容（物品对应下标）。\n",
    "\n",
    "e.g.: \n",
    "\n",
    "输入 V=[1,3,2,5,8,7], W=[1,3,2,5,8,7], c=7, 输出：最大价值=14，背包装的物品为：[6] [4，3] （同一个背包中物品装入顺序对结果无影响）  \n"
   ]
  },
  {
   "cell_type": "markdown",
   "metadata": {},
   "source": [
    "idea：  \n",
    "问题1思路：   \n",
    "使用一个三维动态规划数组 $dp[i][j][k]$ 表示处理前i个物品时，第一个背包容量为$j$，第二个背包容量为$k$时的最大价值。   \n",
    "由于每个物品可以放入第一个背包、第二个背包或不放入任何背包，状态转移需要考虑这三种情况。  \n",
    "使用滚动数组优化空间复杂度，仅维护前一个状态和当前状态的两个二维数组。    \n",
    "问题2思路:      \n",
    "在动态规划过程中记录每个状态的选择方式（不放入、放入第一个背包、放入第二个背包）   \n",
    "回溯时，从最大价值对应的状态逆推每个物品的选择，确定每个背包中的物品。 "
   ]
  },
  {
   "cell_type": "code",
   "execution_count": 25,
   "metadata": {},
   "outputs": [
    {
     "name": "stdout",
     "output_type": "stream",
     "text": [
      "最大价值=14，背包装的物品为：[3, 4] [6]\n"
     ]
    }
   ],
   "source": [
    "# add your idea here\n",
    "def max_value_two_backpacks(V, W, c):\n",
    "    n = len(V)\n",
    "    prev_dp = {(0, 0): 0}\n",
    "    trace = []\n",
    "    for i in range(n):\n",
    "        wi = W[i]\n",
    "        vi = V[i]\n",
    "        curr_dp = {}\n",
    "        curr_trace = {}\n",
    "        for (j_prev, k_prev), val_prev in prev_dp.items():\n",
    "            # 不选的情况\n",
    "            if (j_prev, k_prev) not in curr_dp or val_prev > curr_dp[(j_prev, k_prev)]:\n",
    "                curr_dp[(j_prev, k_prev)] = val_prev\n",
    "                curr_trace[(j_prev, k_prev)] = 0\n",
    "            # 选到第一个背包\n",
    "            new_j = j_prev + wi\n",
    "            new_k = k_prev\n",
    "            if new_j <= c:\n",
    "                new_val = val_prev + vi\n",
    "                if (new_j, new_k) not in curr_dp or new_val > curr_dp[(new_j, new_k)]:\n",
    "                    curr_dp[(new_j, new_k)] = new_val\n",
    "                    curr_trace[(new_j, new_k)] = 1\n",
    "            # 选到第二个背包\n",
    "            new_j = j_prev\n",
    "            new_k = k_prev + wi\n",
    "            if new_k <= c:\n",
    "                new_val = val_prev + vi\n",
    "                if (new_j, new_k) not in curr_dp or new_val > curr_dp[(new_j, new_k)]:\n",
    "                    curr_dp[(new_j, new_k)] = new_val\n",
    "                    curr_trace[(new_j, new_k)] = 2\n",
    "        prev_dp = curr_dp\n",
    "        trace.append(curr_trace)\n",
    "    max_val = 0\n",
    "    j_max, k_max = 0, 0\n",
    "    for (j, k), val in prev_dp.items():\n",
    "        if val > max_val:\n",
    "            max_val = val\n",
    "            j_max, k_max = j, k\n",
    "    return max_val, j_max, k_max, trace\n",
    "\n",
    "def backtrack(V, W, c, trace, j_max, k_max):\n",
    "    n = len(V)\n",
    "    bag1 = []\n",
    "    bag2 = []\n",
    "    current_j = j_max\n",
    "    current_k = k_max\n",
    "    for i in reversed(range(n)):\n",
    "        wi = W[i]\n",
    "        curr_trace = trace[i]\n",
    "        key = (current_j, current_k)\n",
    "        if key in curr_trace:\n",
    "            choice = curr_trace[key]\n",
    "        else:\n",
    "            choice = 0\n",
    "        if choice == 1:\n",
    "            bag1.append(i)\n",
    "            current_j -= wi\n",
    "        elif choice == 2:\n",
    "            bag2.append(i)\n",
    "            current_k -= wi\n",
    "    bag1.reverse()\n",
    "    bag2.reverse()\n",
    "    return bag1, bag2\n",
    "\n",
    "# 示例输入\n",
    "V = [1, 3, 2, 5, 8, 7]\n",
    "W = [1, 3, 2, 5, 8, 7]\n",
    "c = 7\n",
    "max_val, j_max, k_max, trace = max_value_two_backpacks(V, W, c)\n",
    "bag1, bag2 = backtrack(V, W, c, trace, j_max, k_max)\n",
    "\n",
    "# 转换为1-based编号并排序\n",
    "bag1 = [x + 1 for x in bag1]\n",
    "bag2 = [x + 1 for x in bag2]\n",
    "bag1.sort()\n",
    "bag2.sort()\n",
    "\n",
    "print(f\"最大价值={max_val}，背包装的物品为：{bag1} {bag2}\")\n",
    "# your algorithm time complexity is: O(nc^2)"
   ]
  },
  {
   "cell_type": "markdown",
   "metadata": {},
   "source": [
    "## 问题 10 \n",
    "\n",
    "> 给定两个字符串 $x[1..n]$ 和 $y[1..m]$，我们想通过以下操作将 $x$ 变换为 $y$ :\n",
    ">\n",
    "> **插入**：在 $x$ 中插入一个字符(在任何位置)；**删除**：从 $x$ 中删除一个字符(在任何位置)； **替换**：用另一个字符替换 $x$ 中的一个字符。\n",
    ">\n",
    "> 例如: $x = abcd$, $y = bcfe$，\n",
    ">\n",
    "> - 将 $x$ 转换为 $y$ 的一种可能方法是：1. 删除 $x$ 开头的 $a$, $x$变成 $bcd$； 2. 将 $x$ 中的字符 $d$ 替换为字符 $f$。$x$ 变成 $bcf$； 3. 在 $x$ 的末尾插入字符 $e$。$x$ 变成 $bcfe$。\n",
    ">\n",
    "> - 另一种可能的方法：1. 删除 $x$ 开头的 $a$,  $x$ 变成 $bcd$； 2. 在 $x$ 中字符 $d$ 之前插入字符 $f$。$x$ 变成 $bcfd$。3. 将 $x$ 中的字符 $d$ 替换为字符 $e$。$x$ 变成 $bcfe$。\n",
    "\n",
    "设计一个时间复杂度为 $O(mn)$ 的算法，返回将 $x$ 转换为 $y$ 所需的最少操作次数。分析算法设计思路，并基于python编程实现。\n"
   ]
  },
  {
   "cell_type": "markdown",
   "metadata": {},
   "source": [
    "idea：  \n",
    "定义二维数组$dp[i][j]$，表示将$x$的前$i$个字符转换为$y$的前$j$个字符所需的最少操作次数   \n",
    "当$x$的第$i$个字符等于$y$的第$j$个字符时，无需操作，因此$dp[i][j] = dp[i-1][j-1]$  \n",
    "否则，考虑三种操作,插入：$dp[i][j-1] + 1$,删除：$dp[i-1][j] + 1$,替换：$dp[i-1][j-1] + 1$,取这三种操作的最小值作为当前状态的值    \n",
    "当$x$为空时，转换为$y$需要插入所有字符，即$dp[0][j] = j$,当$y$为空时，转换为$x$需要删除所有字符，即$dp[i][0] = i$ "
   ]
  },
  {
   "cell_type": "code",
   "execution_count": 26,
   "metadata": {},
   "outputs": [
    {
     "name": "stdout",
     "output_type": "stream",
     "text": [
      "3\n"
     ]
    }
   ],
   "source": [
    "# add your idea here\n",
    "def min_edit_distance(x, y):\n",
    "    m = len(x)\n",
    "    n = len(y)\n",
    "    # 初始化dp表\n",
    "    dp = [[0] * (n + 1) for _ in range(m + 1)]\n",
    "    # 当y为空时，需要删除所有x的字符\n",
    "    for i in range(m + 1):\n",
    "        dp[i][0] = i\n",
    "    # 当x为空时，需要插入所有y的字符\n",
    "    for j in range(n + 1):\n",
    "        dp[0][j] = j\n",
    "    \n",
    "    for i in range(1, m + 1):\n",
    "        for j in range(1, n + 1):\n",
    "            if x[i-1] == y[j-1]:\n",
    "                dp[i][j] = dp[i-1][j-1]\n",
    "            else:\n",
    "                replace = dp[i-1][j-1] + 1\n",
    "                delete = dp[i-1][j] + 1\n",
    "                insert = dp[i][j-1] + 1\n",
    "                dp[i][j] = min(replace, delete, insert)\n",
    "    return dp[m][n]\n",
    "\n",
    "# 示例测试\n",
    "x = \"abcd\"\n",
    "y = \"bcfe\"\n",
    "print(min_edit_distance(x, y))  # 输出应为3\n",
    "# your algorithm time complexity is: O(mn)"
   ]
  },
  {
   "cell_type": "code",
   "execution_count": null,
   "metadata": {},
   "outputs": [],
   "source": []
  }
 ],
 "metadata": {
  "kernelspec": {
   "display_name": "Python 3 (ipykernel)",
   "language": "python",
   "name": "python3"
  },
  "language_info": {
   "codemirror_mode": {
    "name": "ipython",
    "version": 3
   },
   "file_extension": ".py",
   "mimetype": "text/x-python",
   "name": "python",
   "nbconvert_exporter": "python",
   "pygments_lexer": "ipython3",
   "version": "3.12.7"
  }
 },
 "nbformat": 4,
 "nbformat_minor": 4
}
