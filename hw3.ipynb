{
 "cells": [
  {
   "cell_type": "markdown",
   "metadata": {},
   "source": [
    "## algorithm design and anlysis-2025 spring  homework 3\n",
    "**Deadline**：2025.5.14\n",
    "\n",
    "**name**:\n",
    "\n",
    "\n",
    "note：\n",
    "---\n",
    "1. 带有\\*的题目，申请免上课的同学，必须完成，其他同学选作；\n",
    "2. 请独立完成，如求助了他人或者大模型，请著明，并且不可省略算法分析部分；\n",
    "4. 如若作答有雷同，全部取消成绩；\n",
    "3. 需要书面作答的题目，可以通过引用图片的形式添加，但是注意上传项目时包含所引用的图片的源文件；\n",
    "4. $log_n$ 默认表示$log_2{n}$;"
   ]
  },
  {
   "cell_type": "markdown",
   "metadata": {},
   "source": [
    "## 问题 1  \n",
    "\n",
    "请证明基于比较的排序算法计算复杂度下界为$\\Omega(nlogn)$"
   ]
  },
  {
   "cell_type": "markdown",
   "metadata": {},
   "source": [
    "you can refer a handwritten picture, pleas upload the picture in /fig/xxx.png\n",
    "answer：\n",
    "![jupyter](./fig/3_1.jpg)"
   ]
  },
  {
   "cell_type": "markdown",
   "metadata": {},
   "source": [
    "## 问题 2 \n",
    "\n",
    "构建二叉搜索树\n",
    "\n",
    "> 1. 给定一个数组 [48, 33, 49, 47, 42, 46, 32], 构建一个二叉搜索树存储这些数据，请**绘制**所构建的**二叉搜索树**（标明结点的值）。\n",
    "> 2. 从第1问的二叉搜索树中删除33，请**绘制**删除33后的**二叉搜索树**（标明结点的值）\n",
    "\n",
    "- 推荐使用graphviz包绘制树的结构"
   ]
  },
  {
   "cell_type": "markdown",
   "metadata": {},
   "source": [
    "you can refer a handwritten picture, pleas upload the picture in /fig/xxx.png\n",
    "answer：\n",
    "![jupyter](./fig/3_2.jpg)"
   ]
  },
  {
   "cell_type": "markdown",
   "metadata": {},
   "source": [
    "## 问题 3 \n",
    "\n",
    "> 下面是九门课程的开始和结束时间:\n",
    ">\n",
    "> [(9:00,12:30), (11:00,14:00), (13:00, 14:30), (9:00,10:30),(13:00, 14:30),(14:00,16:30), (15:00,16:30), (15:00,16:30), (9:00,10:30)]\n",
    ">\n",
    "> 请使用贪婪算法为这九门课分配教室，要求在同一天内安排这些课，并且每个教室同一时间只能安排一门课。\n",
    "\n",
    "**请问最少需要几间教室，罗列出每个教室安排的课程**"
   ]
  },
  {
   "cell_type": "markdown",
   "metadata": {},
   "source": [
    "idea：  \n",
    "$首先将所有课程按开始时间排序，如果开始时间相同，则按结束时间排序$  \n",
    "$每次选择最早结束且可以安排当前课程的教室。如果找不到可用教室，则创建新的教室$"
   ]
  },
  {
   "cell_type": "code",
   "execution_count": 1,
   "metadata": {
    "vscode": {
     "languageId": "plaintext"
    }
   },
   "outputs": [
    {
     "name": "stdout",
     "output_type": "stream",
     "text": [
      "最少需要 3 间教室\n",
      "教室1 安排的课程： [('9:00', '10:30'), ('11:00', '14:00'), ('14:00', '16:30')]\n",
      "教室2 安排的课程： [('9:00', '10:30'), ('13:00', '14:30'), ('15:00', '16:30')]\n",
      "教室3 安排的课程： [('9:00', '12:30'), ('13:00', '14:30'), ('15:00', '16:30')]\n"
     ]
    }
   ],
   "source": [
    "#code：\n",
    "def time_to_min(t):\n",
    "    hours, mins = map(int, t.split(':'))\n",
    "    return hours * 60 + mins\n",
    "\n",
    "courses_str = [\n",
    "    (\"9:00\", \"12:30\"),\n",
    "    (\"11:00\", \"14:00\"),\n",
    "    (\"13:00\", \"14:30\"),\n",
    "    (\"9:00\", \"10:30\"),\n",
    "    (\"13:00\", \"14:30\"),\n",
    "    (\"14:00\", \"16:30\"),\n",
    "    (\"15:00\", \"16:30\"),\n",
    "    (\"15:00\", \"16:30\"),\n",
    "    (\"9:00\", \"10:30\"),\n",
    "]\n",
    "\n",
    "# 将课程转换为分钟并保留原始时间字符串\n",
    "courses = []\n",
    "for start, end in courses_str:\n",
    "    s = time_to_min(start)\n",
    "    e = time_to_min(end)\n",
    "    courses.append((s, e, start, end))\n",
    "\n",
    "# 按开始时间和结束时间排序\n",
    "sorted_courses = sorted(courses, key=lambda x: (x[0], x[1]))\n",
    "\n",
    "classrooms = []\n",
    "\n",
    "for course in sorted_courses:\n",
    "    s_min, e_min, start_str, end_str = course\n",
    "    selected_room = None\n",
    "    earliest_end = None\n",
    "    \n",
    "    # 查找所有可以安排当前课程的教室，并选择结束时间最早的\n",
    "    for room in classrooms:\n",
    "        room_end, room_courses = room\n",
    "        if room_end <= s_min:\n",
    "            if earliest_end is None or room_end < earliest_end:\n",
    "                earliest_end = room_end\n",
    "                selected_room = room\n",
    "    \n",
    "    if selected_room:\n",
    "        # 将课程添加到该教室，并更新结束时间\n",
    "        selected_room[1].append((start_str, end_str))\n",
    "        selected_room[0] = e_min\n",
    "    else:\n",
    "        # 创建新教室\n",
    "        classrooms.append([e_min, [(start_str, end_str)]])\n",
    "\n",
    "# 输出结果\n",
    "print(f\"最少需要 {len(classrooms)} 间教室\")\n",
    "for idx, room in enumerate(classrooms, 1):\n",
    "    print(f\"教室{idx} 安排的课程： {room[1]}\")"
   ]
  },
  {
   "cell_type": "markdown",
   "metadata": {},
   "source": [
    "## 问题 4 \n",
    "\n",
    "> 爬楼梯问题：假设爬楼梯时你每次只能爬一阶或者爬两阶，问爬上n阶的楼梯，你一共有多少种方法\n",
    "\n",
    "请设计算法完成该问题，分析算法设计思路，计算时间复杂度，并基于python编程实现"
   ]
  },
  {
   "cell_type": "markdown",
   "metadata": {},
   "source": [
    "idea：  \n",
    "$直接处理 n=0、n=1、n=2 的情况,从第 3 阶开始迭代，逐步更新 a 和 b，分别保存 f(n-2) 和 f(n-1) 的值,每次可以选择爬 1 阶或 2 阶$  \n",
    "$因此 f(n) = f(n-1) + f(n-2),最终返回f(n)$  \n",
    "$需要循环 n 次计算每个状态，故时间复杂度为O(n)$"
   ]
  },
  {
   "cell_type": "code",
   "execution_count": 2,
   "metadata": {},
   "outputs": [
    {
     "name": "stdout",
     "output_type": "stream",
     "text": [
      "3\n",
      "5\n",
      "8\n"
     ]
    }
   ],
   "source": [
    "# add your code here\n",
    "def climb_stairs(n: int) -> int:\n",
    "    if n == 0:\n",
    "        return 1\n",
    "    elif n == 1:\n",
    "        return 1\n",
    "    elif n == 2:\n",
    "        return 2\n",
    "    \n",
    "    a, b = 1, 2  # 初始值对应 f(1) 和 f(2)\n",
    "    for i in range(3, n + 1):\n",
    "        c = a + b\n",
    "        a = b\n",
    "        b = c\n",
    "    return b\n",
    "\n",
    "# 示例测试\n",
    "print(climb_stairs(3))  # 输出 3\n",
    "print(climb_stairs(4))  # 输出 5\n",
    "print(climb_stairs(5))  # 输出 8\n",
    "# your algorithm time complexity is: "
   ]
  },
  {
   "cell_type": "markdown",
   "metadata": {},
   "source": [
    "## 问题 5 \n",
    "\n",
    "> 0-1背包问题：现在有4块大理石，每个大理石对应的重量和价值使用一个元组表示, 即（重量，价值），4块大理石的重量和价值为：[(5,10), (4,40), (6,30), (3, 50)], 假设你有一辆最大承重为9的小推车，请问使用这个小推车装大理石的最大价值为多少\n",
    "\n",
    "请设计一个算法解决该问题，分析算法设计思路，计算时间复杂度，并基于python编程实现"
   ]
  },
  {
   "cell_type": "markdown",
   "metadata": {},
   "source": [
    "idea：  \n",
    "$定义dp[w] 表示当背包容量为 w 时能获得的最大价值$  \n",
    "$若当前物品重量 weight > w，无法放入：dp[w] 保持不变,若可以放入：dp[w] = max(dp[w], dp[w - weight] + value)$\n",
    "$遍历所有物品，共 n 次，遍历背包容量 w，从w到当前物品的重量 weight，每次递减1，最多执行w次$\n",
    "$总操作次数为n*w，故而时间复杂度为O(nW),n是物品数量，W是背包容量$"
   ]
  },
  {
   "cell_type": "code",
   "execution_count": 4,
   "metadata": {},
   "outputs": [
    {
     "name": "stdout",
     "output_type": "stream",
     "text": [
      "90\n"
     ]
    }
   ],
   "source": [
    "# add your code here\n",
    "def knapsack(max_weight, items):\n",
    "    dp = [0] * (max_weight + 1)\n",
    "    for weight, value in items:\n",
    "        # 逆序遍历背包容量，确保每个物品只被计算一次\n",
    "        for w in range(max_weight, weight - 1, -1):\n",
    "            dp[w] = max(dp[w], dp[w - weight] + value)\n",
    "    return dp[max_weight]\n",
    "\n",
    "# 示例测试\n",
    "items = [(5, 10), (4, 40), (6, 30), (3, 50)]\n",
    "max_weight = 9\n",
    "print(knapsack(max_weight, items))  # 输出 90\n",
    "# your algorithm time complexity is:O(nW),其中n是物品数量，W是背包容量"
   ]
  },
  {
   "cell_type": "markdown",
   "metadata": {},
   "source": [
    "## 问题 6 \n",
    "给定 `n` 个非负整数表示每个宽度为 `1` 的柱子的高度图，计算按此排列的柱子，下雨之后能接多少雨水。\n",
    "\n",
    "\n",
    "\n",
    "<div style=\"text-align:center;width:800px;\"> <img alt=\"\" src=\"./fig/hw3q6.png\"> </div>\n",
    "\n",
    "请分析算法设计思路，计算时间复杂度，并基于python编程实现"
   ]
  },
  {
   "cell_type": "markdown",
   "metadata": {},
   "source": [
    "idea：  \n",
    "$使用双指针法，通过维护左右指针及左右最大高度，动态计算每个位置的积水量，左指针 left 从数组头部开始，右指针 right 从尾部开始$  \n",
    "$分别记录左侧最大值 left\\_max 和右侧最大值 right\\_max$  \n",
    "$比较左右当前高度，优先处理较小的一侧（因为较小侧的最高值决定了积水量）$  \n",
    "$若 height[left] < height[right]，计算左侧积水量并移动左指针,否则，计算右侧积水量并移动右指针$  \n",
    "$每个元素被访问一次，故而时间复杂度为O(n)$"
   ]
  },
  {
   "cell_type": "code",
   "execution_count": 1,
   "metadata": {},
   "outputs": [
    {
     "name": "stdout",
     "output_type": "stream",
     "text": [
      "6\n",
      "9\n"
     ]
    }
   ],
   "source": [
    "# add your code here\n",
    "def trap(height):\n",
    "    if not height:\n",
    "        return 0\n",
    "    left, right = 0, len(height) - 1\n",
    "    left_max = right_max = ans = 0\n",
    "    \n",
    "    while left <= right:\n",
    "        if height[left] <= height[right]:\n",
    "            if height[left] >= left_max:\n",
    "                left_max = height[left]\n",
    "            else:\n",
    "                ans += left_max - height[left]\n",
    "            left += 1\n",
    "        else:\n",
    "            if height[right] >= right_max:\n",
    "                right_max = height[right]\n",
    "            else:\n",
    "                ans += right_max - height[right]\n",
    "            right -= 1\n",
    "    return ans\n",
    "\n",
    "# 示例测试\n",
    "print(trap([0,1,0,2,1,0,1,3,2,1,2,1]))  # 输出 6\n",
    "print(trap([4,2,0,3,2,5]))             # 输出 9\n",
    "# your algorithm time complexity is:O(n)"
   ]
  },
  {
   "cell_type": "markdown",
   "metadata": {},
   "source": [
    "## 问题 7 \n",
    "\n",
    "**股票投资组合优化**： 假设你是一位投资者，想要在不同的股票中分配你的资金，以最大化你的投资回报。每只股票都有不同的预期收益率和风险。你的目标是选择一些股票，使得总投资金额不超过你的预算，并且预期收益最大化。\n",
    "\n",
    "在这个情况下，你可以将每只股票视为一个“物品”，其重量为投资金额，价值为预期收益率。然后，你可以使用分级背包问题的方法来选择部分股票，以便在预算内获得最大的预期收益。\n",
    "\n",
    "以下是一个简化的例子：\n",
    "\n",
    "假设你有以下三只股票可供选择：\n",
    "\n",
    "1. 股票 A：投资金额 5000 美元，预期收益率 10%\n",
    "2. 股票 B：投资金额 3000 美元，预期收益率 8%\n",
    "3. 股票 C：投资金额 2000 美元，预期收益率 12%\n",
    "\n",
    "请设计算法找到最优投资方案，分析算法设计思路，计算时间复杂度，并基于python编程实现"
   ]
  },
  {
   "cell_type": "markdown",
   "metadata": {},
   "source": [
    "idea：  \n",
    "$将每个股票视为一个物品，其“重量”为投资金额，“价值”为投资金额 × 预期收益率$  \n",
    "$定义 dp[w] 表示在预算为 w 时的最大收益,状态转移方程：dp[w] = max(dp[w], dp[w - weight] + value)$  \n",
    "$对每个股票循环一次，共n次操作，每次最坏情况w以1为单位递减，共W次操作，故而时间复杂度为O(nW)，n是股票数量，W是预算$"
   ]
  },
  {
   "cell_type": "code",
   "execution_count": 2,
   "metadata": {},
   "outputs": [
    {
     "name": "stdout",
     "output_type": "stream",
     "text": [
      "740.0\n"
     ]
    }
   ],
   "source": [
    "# add your code here\n",
    "def max_profit(budget, stocks):\n",
    "    # 将股票转换为（投资金额，实际收益）\n",
    "    items = [(amt, amt * rate) for amt, rate in stocks]\n",
    "    dp = [0] * (budget + 1)\n",
    "    \n",
    "    for weight, value in items:\n",
    "        for w in range(budget, weight - 1, -1):\n",
    "            dp[w] = max(dp[w], dp[w - weight] + value)\n",
    "    return dp[budget]\n",
    "\n",
    "# 示例测试\n",
    "stocks = [\n",
    "    (5000, 0.10),\n",
    "    (3000, 0.08),\n",
    "    (2000, 0.12),\n",
    "]\n",
    "budget = 9000  # 可自行调整预算测试\n",
    "print(max_profit(budget, stocks))  # 输出 740（选股票A和C，总收益500+240=740）\n",
    "# your algorithm time complexity is:O(nW),其中 n 是股票数量，W 是预算总额"
   ]
  },
  {
   "cell_type": "markdown",
   "metadata": {},
   "source": [
    "## 问题 8\n",
    "\n",
    "给你二叉搜索树的根节点 root ，该树中的恰好两个节点的值被错误地交换。请在不改变其结构的情况下，恢复这棵树 。设计算法解决该问题，分析算法设计思路，计算时间复杂度，并基于python编程实现\n",
    "\n",
    "e.g.:\n",
    "---\n",
    "1.\n",
    "\n",
    "<div style=\"text-align:center;width:200px;\"> <img alt=\"\" src=\"./fig/hw3q9-1.jpg\"> </div>\n",
    "输入：root = [1,3,null,null,2]， 输出为：[3,1,null,null,2]， \n",
    "\n",
    "解释：3 不能是 1 的左孩子，因为 3 > 1 。交换 1 和 3 使二叉搜索树有效。\n",
    "\n",
    "2.\n",
    "\n",
    " <div style=\"text-align:center;width:200px;\"> <img alt=\"\" src=\"./fig/hw3q9-1.jpg\"> </div>\n",
    "输入： root=[3,1,4,null,null,2]， 输出为：[2,1,4,null,null,3]\n",
    "\n",
    "解释：2 不能在 3 的右子树中，因为 2 < 3 。交换 2 和 3 使二叉搜索树有效。"
   ]
  },
  {
   "cell_type": "markdown",
   "metadata": {},
   "source": [
    "idea：  \n",
    "$对树进行中序遍历，记录遍历过程中出现逆序的位置$\n",
    "$若存在一个逆序对（如 [1, 3, 2]），则交换这两个相邻节点,若存在两个逆序对（如 [3, 2, 1]），则交换第一个逆序对的第一个节点和第二个逆序对的第二个节点（3 和 1）$  \n",
    "$需要一次中序遍历，每个节点一遍，共n个节点，故而时间复杂度为O(n)$"
   ]
  },
  {
   "cell_type": "code",
   "execution_count": 3,
   "metadata": {},
   "outputs": [
    {
     "name": "stdout",
     "output_type": "stream",
     "text": [
      "[3, 1, None, None, 2]\n",
      "[2, 1, 4, None, None, 3]\n"
     ]
    }
   ],
   "source": [
    "# add your code here\n",
    "class TreeNode:\n",
    "    def __init__(self, val=0, left=None, right=None):\n",
    "        self.val = val\n",
    "        self.left = left\n",
    "        self.right = right\n",
    "\n",
    "class Solution:\n",
    "    def recoverTree(self, root: TreeNode) -> None:\n",
    "        self.prev = None\n",
    "        self.first = None\n",
    "        self.second = None\n",
    "        self.inorder(root)\n",
    "        self.first.val, self.second.val = self.second.val, self.first.val\n",
    "    \n",
    "    def inorder(self, node):\n",
    "        if not node:\n",
    "            return\n",
    "        self.inorder(node.left)\n",
    "        if self.prev and self.prev.val > node.val:\n",
    "            if not self.first:\n",
    "                self.first = self.prev\n",
    "            self.second = node\n",
    "        self.prev = node\n",
    "        self.inorder(node.right)\n",
    "\n",
    "# ---------- 树结构的序列化方法（层次遍历）----------\n",
    "def serialize(root):\n",
    "    if not root:\n",
    "        return []\n",
    "    result = []\n",
    "    queue = [root]\n",
    "    while queue:\n",
    "        node = queue.pop(0)\n",
    "        if node:\n",
    "            result.append(node.val)\n",
    "            queue.append(node.left)\n",
    "            queue.append(node.right)\n",
    "        else:\n",
    "            result.append(None)\n",
    "    # 去除末尾多余的null\n",
    "    while result and result[-1] is None:\n",
    "        result.pop()\n",
    "    return result\n",
    "\n",
    "# ---------- 测试示例1 ----------\n",
    "# 构建示例1的树：root = [1,3,null,null,2]\n",
    "root1 = TreeNode(1)\n",
    "root1.left = TreeNode(3)\n",
    "root1.left.right = TreeNode(2)\n",
    "\n",
    "# 恢复树并序列化输出\n",
    "Solution().recoverTree(root1)\n",
    "print(serialize(root1))  # 输出：[3, 1, None, None, 2]\n",
    "\n",
    "# ---------- 测试示例2 ----------\n",
    "# 构建示例2的树：root = [3,1,4,null,null,2]\n",
    "root2 = TreeNode(3)\n",
    "root2.left = TreeNode(1)\n",
    "root2.right = TreeNode(4)\n",
    "root2.right.left = TreeNode(2)\n",
    "\n",
    "# 恢复树并序列化输出\n",
    "Solution().recoverTree(root2)\n",
    "print(serialize(root2))  # 输出：[2, 1, 4, None, None, 3]\n",
    "# your algorithm time complexity is:O(n)"
   ]
  },
  {
   "cell_type": "markdown",
   "metadata": {},
   "source": [
    "## 问题 9  \n",
    "\n",
    "给你一个二叉树的根节点 root ，树中每个节点都存放有一个 0 到 9 之间的数字。每条从根节点到叶节点的路径都代表一个数字：\n",
    "\n",
    "> 例如，从根节点到叶节点的路径 1 -> 2 -> 3 表示数字 123 。\n",
    "\n",
    "设计一个算法计算从根节点到叶节点生成的所有数字之和 ，分析算法设计思路，计算时间复杂度，并基于python编程实现\n",
    "\n",
    "叶节点:是指没有子节点的节点。\n",
    "\n",
    "e.g.:\n",
    "---\n",
    "1.\n",
    "\n",
    " <div style=\"text-align:center;width:200px;\"> <img alt=\"figure\" src=\"./fig/hw3q10-1.jpg\"> </div>\n",
    "\n",
    " 输入：root = [1,2,3], 输出：25\n",
    "\n",
    "解释：从根到叶子节点路径 1->2 代表数字 12，1->3 代表数字 13，因此和为 12 + 13 = 25 。\n",
    "\n",
    "2.\n",
    "\n",
    " <div style=\"text-align:center;width:200px;\"> <img alt=\"figure\" src=\"./fig/hw3q10-2.jpg\"> </div>\n",
    "\n",
    " 输入：root = [4,9,0,5,1], 输出：1026\n",
    "\n",
    "解释：从根到叶子节点路径 4->9->5 代表数字 495，4->9->1 代表数字 491，4->0 代表数字 40。因此和为 495 + 491 + 40 = 1026 。"
   ]
  },
  {
   "cell_type": "markdown",
   "metadata": {},
   "source": [
    "idea：  \n",
    "$使用深度优先搜索DFS来遍历二叉树,从根节点开始，递归地遍历每个节点，$  \n",
    "$在遍历过程中，维护当前路径的值。每次访问一个节点时，将当前路径值乘以10再加上当前节点的值$  \n",
    "$当遇到叶节点时，将当前路径值加入总和$  \n",
    "$当节点为空时返回0，否则继续递归处理左右子节点，并将结果相加$  \n",
    "$每个节点被访问一次，故而时间复杂度为O(n)$"
   ]
  },
  {
   "cell_type": "code",
   "execution_count": 4,
   "metadata": {},
   "outputs": [
    {
     "name": "stdout",
     "output_type": "stream",
     "text": [
      "25\n",
      "1026\n"
     ]
    }
   ],
   "source": [
    "# add your code here\n",
    "class TreeNode:\n",
    "    def __init__(self, val=0, left=None, right=None):\n",
    "        self.val = val\n",
    "        self.left = left\n",
    "        self.right = right\n",
    "\n",
    "class Solution:\n",
    "    def sumNumbers(self, root: TreeNode) -> int:\n",
    "        def dfs(node, current_sum):\n",
    "            if not node:\n",
    "                return 0\n",
    "            current_sum = current_sum * 10 + node.val\n",
    "            if not node.left and not node.right:\n",
    "                return current_sum\n",
    "            return dfs(node.left, current_sum) + dfs(node.right, current_sum)\n",
    "        return dfs(root, 0)\n",
    "\n",
    "# 测试示例 1\n",
    "# 构造树：1 -> 2, 3（2和3是叶子节点）\n",
    "root1 = TreeNode(1)\n",
    "root1.left = TreeNode(2)\n",
    "root1.right = TreeNode(3)\n",
    "print(Solution().sumNumbers(root1))  # 输出 25\n",
    "\n",
    "# 测试示例 2\n",
    "# 构造树：4 -> 9(5,1), 0（5,1,0是叶子节点）\n",
    "root2 = TreeNode(4)\n",
    "root2.left = TreeNode(9)\n",
    "root2.left.left = TreeNode(5)\n",
    "root2.left.right = TreeNode(1)\n",
    "root2.right = TreeNode(0)\n",
    "print(Solution().sumNumbers(root2))  # 输出 1026\n",
    "# your algorithm time complexity is:O(n)"
   ]
  },
  {
   "cell_type": "markdown",
   "metadata": {},
   "source": [
    "## 问题 10  \n",
    "\n",
    "给你一个二叉树的根节点 root ， 检查它是否轴对称。\n",
    "\n",
    "1. 分析算法设计思路，计算时间复杂度，并基于python编程实现\n",
    "2. \\* 设计使用递归和迭代两种方法解决这个问题，计算时间复杂度，并基于python编程实现\n",
    "\n",
    "e.g.:\n",
    "---\n",
    "1.\n",
    "\n",
    " <div style=\"text-align:center;width:200px;\"> <img alt=\"figure\" src=\"./fig/hw3q11-1.png\"> </div>\n",
    "\n",
    " 输入：root = [1,2,2,3,4,4,3]， 输出：true\n",
    "\n",
    "解释：二叉树 [1,2,2,3,4,4,3] 对称。\n",
    "\n",
    "2.\n",
    "\n",
    " <div style=\"text-align:center;width:200px;\"> <img alt=\"figure\" src=\"./fig/hw3q11-2.png\"> </div>\n",
    "\n",
    " 输入：root = [1,2,2,null,3,null,3]， 输出：false"
   ]
  },
  {
   "cell_type": "markdown",
   "metadata": {},
   "source": [
    "idea:  \n",
    "$递归检查左子树的左节点与右子树的右节点，以及左子树的右节点与右子树的左节点是否对称$  \n",
    "$终止条件:$  \n",
    "$1.两个节点都为空，则对称$  \n",
    "$2.一个节点为空，另一个不为空，不对称$  \n",
    "$3.两个节点的值不相等，不对称$  \n",
    "$每个节点访问一次，时间复杂度为O(n)$  \n",
    "\n",
    "$迭代:使用队列存储需要比较的节点对，初始将根节点的左右子节点入队，每次取出两个节点比较:$  \n",
    "$1.都为空则继续$  \n",
    "$2.一个为空另一个不为空则不对称$  \n",
    "$3.值不相等则不对称$  \n",
    "$将左节点的左子节点与右节点的右子节点入队，再将左节点的右子节点与右节点的左子节点入队$  \n",
    "$每个节点访问一次，时间复杂度为O(n)$  "
   ]
  },
  {
   "cell_type": "code",
   "execution_count": 6,
   "metadata": {},
   "outputs": [
    {
     "name": "stdout",
     "output_type": "stream",
     "text": [
      "True\n",
      "False\n"
     ]
    }
   ],
   "source": [
    "# add your code here\n",
    "# 递归\n",
    "class TreeNode:\n",
    "    def __init__(self, val=0, left=None, right=None):\n",
    "        self.val = val\n",
    "        self.left = left\n",
    "        self.right = right\n",
    "\n",
    "class Solution:\n",
    "    def isSymmetric(self, root: TreeNode) -> bool:\n",
    "        if not root:\n",
    "            return True\n",
    "        return self.check(root.left, root.right)\n",
    "    \n",
    "    def check(self, left: TreeNode, right: TreeNode) -> bool:\n",
    "        if not left and not right:\n",
    "            return True\n",
    "        if not left or not right:\n",
    "            return False\n",
    "        return left.val == right.val and self.check(left.left, right.right) and self.check(left.right, right.left)\n",
    "# 构建示例1的树\n",
    "root = TreeNode(1)\n",
    "root.left = TreeNode(2)\n",
    "root.right = TreeNode(2)\n",
    "root.left.left = TreeNode(3)\n",
    "root.left.right = TreeNode(4)\n",
    "root.right.left = TreeNode(4)\n",
    "root.right.right = TreeNode(3)\n",
    "\n",
    "sol = Solution()\n",
    "print(sol.isSymmetric(root))          # 输出: True\n",
    "# 迭代\n",
    "from collections import deque\n",
    "\n",
    "class Solution:\n",
    "    def isSymmetricIterative(self, root: TreeNode) -> bool:\n",
    "        if not root:\n",
    "            return True\n",
    "        queue = deque()\n",
    "        queue.append(root.left)\n",
    "        queue.append(root.right)\n",
    "        while queue:\n",
    "            left_node = queue.popleft()\n",
    "            right_node = queue.popleft()\n",
    "            if not left_node and not right_node:\n",
    "                continue\n",
    "            if not left_node or not right_node:\n",
    "                return False\n",
    "            if left_node.val != right_node.val:\n",
    "                return False\n",
    "            queue.append(left_node.left)\n",
    "            queue.append(right_node.right)\n",
    "            queue.append(left_node.right)\n",
    "            queue.append(right_node.left)\n",
    "        return True\n",
    "# 构建示例2的树\n",
    "root = TreeNode(1)\n",
    "root.left = TreeNode(2)\n",
    "root.right = TreeNode(2)\n",
    "root.left.right = TreeNode(3)\n",
    "root.right.right = TreeNode(3)\n",
    "\n",
    "sol = Solution()\n",
    "print(sol.isSymmetricIterative(root))          # 输出: False\n",
    "# your algorithm time complexity is:O(n)"
   ]
  },
  {
   "cell_type": "markdown",
   "metadata": {},
   "source": [
    "## 问题 11  \n",
    "\n",
    "给你一个由 '1'（陆地）和 '0'（水）组成的的二维网格，请你计算网格中岛屿的数量。岛屿总是被水包围，并且每座岛屿只能由水平方向和/或竖直方向上相邻的陆地连接形成。\n",
    "\n",
    "此外，你可以假设该网格的四条边均被水包围。\n",
    "\n",
    "分析算法设计思路，计算时间复杂度，并基于python编程实现\n",
    "\n",
    "e.g.:\n",
    "---\n",
    "1.\n",
    "输入：grid = [\n",
    "\n",
    "    [\"1\",\"1\",\"1\",\"1\",\"0\"],\n",
    "\n",
    "    [\"1\",\"1\",\"0\",\"1\",\"0\"], \n",
    "\n",
    "    [\"1\",\"1\",\"0\",\"0\",\"0\"], \n",
    "\n",
    "    [\"0\",\"0\",\"0\",\"0\",\"0\"]  \n",
    "\n",
    "]\n",
    "\n",
    "输出：1\n",
    "\n",
    "2.\n",
    "输入：grid = [\n",
    "\n",
    "    [\"1\",\"1\",\"0\",\"0\",\"0\"],\n",
    "\n",
    "    [\"1\",\"1\",\"0\",\"0\",\"0\"],\n",
    "\n",
    "    [\"0\",\"0\",\"1\",\"0\",\"0\"],\n",
    "\n",
    "    [\"0\",\"0\",\"0\",\"1\",\"1\"]\n",
    "\n",
    "]\n",
    "\n",
    "输出：3"
   ]
  },
  {
   "cell_type": "markdown",
   "metadata": {},
   "source": [
    "idea:  \n",
    "$逐个检查每个网格点,当遇到一个未被访问的陆地（'1'）时，表示发现了一个新岛屿，岛屿数量加1$\n",
    "$使用BFS将所有相连的陆地标记为已访问（修改为'0'），以避免重复计数$\n",
    "$每个网格点最多被访问两次，一次遍历一次标记，故而时间复杂度为O(m*n)，其中m和n分别是网格的行数和列数$"
   ]
  },
  {
   "cell_type": "code",
   "execution_count": 7,
   "metadata": {},
   "outputs": [
    {
     "name": "stdout",
     "output_type": "stream",
     "text": [
      "1\n",
      "3\n"
     ]
    }
   ],
   "source": [
    "# add your code here\n",
    "from typing import List\n",
    "from collections import deque\n",
    "\n",
    "class Solution:\n",
    "    def numIslands(self, grid: List[List[str]]) -> int:\n",
    "        if not grid:\n",
    "            return 0\n",
    "        m, n = len(grid), len(grid[0])\n",
    "        count = 0\n",
    "        \n",
    "        def bfs(i, j):\n",
    "            queue = deque([(i, j)])\n",
    "            grid[i][j] = '0'\n",
    "            while queue:\n",
    "                x, y = queue.popleft()\n",
    "                for dx, dy in [(-1, 0), (1, 0), (0, -1), (0, 1)]:\n",
    "                    nx, ny = x + dx, y + dy\n",
    "                    if 0 <= nx < m and 0 <= ny < n and grid[nx][ny] == '1':\n",
    "                        grid[nx][ny] = '0'\n",
    "                        queue.append((nx, ny))\n",
    "        \n",
    "        for i in range(m):\n",
    "            for j in range(n):\n",
    "                if grid[i][j] == '1':\n",
    "                    bfs(i, j)\n",
    "                    count += 1\n",
    "        return count\n",
    "# 示例1\n",
    "grid1 = [\n",
    "    [\"1\",\"1\",\"1\",\"1\",\"0\"],\n",
    "    [\"1\",\"1\",\"0\",\"1\",\"0\"],\n",
    "    [\"1\",\"1\",\"0\",\"0\",\"0\"],\n",
    "    [\"0\",\"0\",\"0\",\"0\",\"0\"]\n",
    "]\n",
    "print(Solution().numIslands(grid1))  # 输出: 1\n",
    "\n",
    "# 示例2\n",
    "grid2 = [\n",
    "    [\"1\",\"1\",\"0\",\"0\",\"0\"],\n",
    "    [\"1\",\"1\",\"0\",\"0\",\"0\"],\n",
    "    [\"0\",\"0\",\"1\",\"0\",\"0\"],\n",
    "    [\"0\",\"0\",\"0\",\"1\",\"1\"]\n",
    "]\n",
    "print(Solution().numIslands(grid2))  # 输出: 3\n",
    "# your algorithm time complexity is:O(mn),其中m和n分别是网格的行数和列数"
   ]
  },
  {
   "cell_type": "code",
   "execution_count": null,
   "metadata": {},
   "outputs": [],
   "source": []
  }
 ],
 "metadata": {
  "kernelspec": {
   "display_name": "Python 3 (ipykernel)",
   "language": "python",
   "name": "python3"
  },
  "language_info": {
   "codemirror_mode": {
    "name": "ipython",
    "version": 3
   },
   "file_extension": ".py",
   "mimetype": "text/x-python",
   "name": "python",
   "nbconvert_exporter": "python",
   "pygments_lexer": "ipython3",
   "version": "3.12.7"
  }
 },
 "nbformat": 4,
 "nbformat_minor": 4
}
